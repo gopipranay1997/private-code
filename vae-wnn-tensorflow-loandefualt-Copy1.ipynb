{
 "cells": [
  {
   "cell_type": "code",
   "execution_count": 1,
   "metadata": {},
   "outputs": [],
   "source": [
    "import pandas as pd\n",
    "import numpy as np"
   ]
  },
  {
   "cell_type": "code",
   "execution_count": 2,
   "metadata": {},
   "outputs": [],
   "source": [
    "# data = ps.read_csv('/home/k8user/Downloads/9408623-b237fa5848349a14a14e5d4107dc7897c21951f5/wine.csv')\n",
    "data = pd.read_csv(\"/home/k8user/Downloads/UCI_Credit_Card.csv\")\n"
   ]
  },
  {
   "cell_type": "code",
   "execution_count": 3,
   "metadata": {},
   "outputs": [
    {
     "data": {
      "text/html": [
       "<div><div id=6f1392f2-570a-4eaf-a598-7a9b644a1a38 style=\"display:none; background-color:#9D6CFF; color:white; width:200px; height:30px; padding-left:5px; border-radius:4px; flex-direction:row; justify-content:space-around; align-items:center;\" onmouseover=\"this.style.backgroundColor='#BA9BF8'\" onmouseout=\"this.style.backgroundColor='#9D6CFF'\" onclick=\"window.commands?.execute('create-mitosheet-from-dataframe-output');\">See Full Dataframe in Mito</div> <script> if (window.commands?.hasCommand('create-mitosheet-from-dataframe-output')) document.getElementById('6f1392f2-570a-4eaf-a598-7a9b644a1a38').style.display = 'flex' </script> <table border=\"1\" class=\"dataframe\">\n",
       "  <thead>\n",
       "    <tr style=\"text-align: right;\">\n",
       "      <th></th>\n",
       "      <th>ID</th>\n",
       "      <th>LIMIT_BAL</th>\n",
       "      <th>SEX</th>\n",
       "      <th>EDUCATION</th>\n",
       "      <th>MARRIAGE</th>\n",
       "      <th>AGE</th>\n",
       "      <th>PAY_0</th>\n",
       "      <th>PAY_2</th>\n",
       "      <th>PAY_3</th>\n",
       "      <th>PAY_4</th>\n",
       "      <th>...</th>\n",
       "      <th>BILL_AMT4</th>\n",
       "      <th>BILL_AMT5</th>\n",
       "      <th>BILL_AMT6</th>\n",
       "      <th>PAY_AMT1</th>\n",
       "      <th>PAY_AMT2</th>\n",
       "      <th>PAY_AMT3</th>\n",
       "      <th>PAY_AMT4</th>\n",
       "      <th>PAY_AMT5</th>\n",
       "      <th>PAY_AMT6</th>\n",
       "      <th>default.payment.next.month</th>\n",
       "    </tr>\n",
       "  </thead>\n",
       "  <tbody>\n",
       "    <tr>\n",
       "      <th>0</th>\n",
       "      <td>1</td>\n",
       "      <td>20000.0</td>\n",
       "      <td>2</td>\n",
       "      <td>2</td>\n",
       "      <td>1</td>\n",
       "      <td>24</td>\n",
       "      <td>2</td>\n",
       "      <td>2</td>\n",
       "      <td>-1</td>\n",
       "      <td>-1</td>\n",
       "      <td>...</td>\n",
       "      <td>0.0</td>\n",
       "      <td>0.0</td>\n",
       "      <td>0.0</td>\n",
       "      <td>0.0</td>\n",
       "      <td>689.0</td>\n",
       "      <td>0.0</td>\n",
       "      <td>0.0</td>\n",
       "      <td>0.0</td>\n",
       "      <td>0.0</td>\n",
       "      <td>1</td>\n",
       "    </tr>\n",
       "    <tr>\n",
       "      <th>1</th>\n",
       "      <td>2</td>\n",
       "      <td>120000.0</td>\n",
       "      <td>2</td>\n",
       "      <td>2</td>\n",
       "      <td>2</td>\n",
       "      <td>26</td>\n",
       "      <td>-1</td>\n",
       "      <td>2</td>\n",
       "      <td>0</td>\n",
       "      <td>0</td>\n",
       "      <td>...</td>\n",
       "      <td>3272.0</td>\n",
       "      <td>3455.0</td>\n",
       "      <td>3261.0</td>\n",
       "      <td>0.0</td>\n",
       "      <td>1000.0</td>\n",
       "      <td>1000.0</td>\n",
       "      <td>1000.0</td>\n",
       "      <td>0.0</td>\n",
       "      <td>2000.0</td>\n",
       "      <td>1</td>\n",
       "    </tr>\n",
       "    <tr>\n",
       "      <th>2</th>\n",
       "      <td>3</td>\n",
       "      <td>90000.0</td>\n",
       "      <td>2</td>\n",
       "      <td>2</td>\n",
       "      <td>2</td>\n",
       "      <td>34</td>\n",
       "      <td>0</td>\n",
       "      <td>0</td>\n",
       "      <td>0</td>\n",
       "      <td>0</td>\n",
       "      <td>...</td>\n",
       "      <td>14331.0</td>\n",
       "      <td>14948.0</td>\n",
       "      <td>15549.0</td>\n",
       "      <td>1518.0</td>\n",
       "      <td>1500.0</td>\n",
       "      <td>1000.0</td>\n",
       "      <td>1000.0</td>\n",
       "      <td>1000.0</td>\n",
       "      <td>5000.0</td>\n",
       "      <td>0</td>\n",
       "    </tr>\n",
       "    <tr>\n",
       "      <th>3</th>\n",
       "      <td>4</td>\n",
       "      <td>50000.0</td>\n",
       "      <td>2</td>\n",
       "      <td>2</td>\n",
       "      <td>1</td>\n",
       "      <td>37</td>\n",
       "      <td>0</td>\n",
       "      <td>0</td>\n",
       "      <td>0</td>\n",
       "      <td>0</td>\n",
       "      <td>...</td>\n",
       "      <td>28314.0</td>\n",
       "      <td>28959.0</td>\n",
       "      <td>29547.0</td>\n",
       "      <td>2000.0</td>\n",
       "      <td>2019.0</td>\n",
       "      <td>1200.0</td>\n",
       "      <td>1100.0</td>\n",
       "      <td>1069.0</td>\n",
       "      <td>1000.0</td>\n",
       "      <td>0</td>\n",
       "    </tr>\n",
       "    <tr>\n",
       "      <th>4</th>\n",
       "      <td>5</td>\n",
       "      <td>50000.0</td>\n",
       "      <td>1</td>\n",
       "      <td>2</td>\n",
       "      <td>1</td>\n",
       "      <td>57</td>\n",
       "      <td>-1</td>\n",
       "      <td>0</td>\n",
       "      <td>-1</td>\n",
       "      <td>0</td>\n",
       "      <td>...</td>\n",
       "      <td>20940.0</td>\n",
       "      <td>19146.0</td>\n",
       "      <td>19131.0</td>\n",
       "      <td>2000.0</td>\n",
       "      <td>36681.0</td>\n",
       "      <td>10000.0</td>\n",
       "      <td>9000.0</td>\n",
       "      <td>689.0</td>\n",
       "      <td>679.0</td>\n",
       "      <td>0</td>\n",
       "    </tr>\n",
       "  </tbody>\n",
       "</table></div>"
      ],
      "text/plain": [
       "   ID  LIMIT_BAL  SEX  EDUCATION  MARRIAGE  AGE  PAY_0  PAY_2  PAY_3  PAY_4  \\\n",
       "0   1    20000.0    2          2         1   24      2      2     -1     -1   \n",
       "1   2   120000.0    2          2         2   26     -1      2      0      0   \n",
       "2   3    90000.0    2          2         2   34      0      0      0      0   \n",
       "3   4    50000.0    2          2         1   37      0      0      0      0   \n",
       "4   5    50000.0    1          2         1   57     -1      0     -1      0   \n",
       "\n",
       "   ...  BILL_AMT4  BILL_AMT5  BILL_AMT6  PAY_AMT1  PAY_AMT2  PAY_AMT3  \\\n",
       "0  ...        0.0        0.0        0.0       0.0     689.0       0.0   \n",
       "1  ...     3272.0     3455.0     3261.0       0.0    1000.0    1000.0   \n",
       "2  ...    14331.0    14948.0    15549.0    1518.0    1500.0    1000.0   \n",
       "3  ...    28314.0    28959.0    29547.0    2000.0    2019.0    1200.0   \n",
       "4  ...    20940.0    19146.0    19131.0    2000.0   36681.0   10000.0   \n",
       "\n",
       "   PAY_AMT4  PAY_AMT5  PAY_AMT6  default.payment.next.month  \n",
       "0       0.0       0.0       0.0                           1  \n",
       "1    1000.0       0.0    2000.0                           1  \n",
       "2    1000.0    1000.0    5000.0                           0  \n",
       "3    1100.0    1069.0    1000.0                           0  \n",
       "4    9000.0     689.0     679.0                           0  \n",
       "\n",
       "[5 rows x 25 columns]"
      ]
     },
     "execution_count": 3,
     "metadata": {},
     "output_type": "execute_result"
    }
   ],
   "source": [
    "data.head()"
   ]
  },
  {
   "cell_type": "code",
   "execution_count": 4,
   "metadata": {},
   "outputs": [
    {
     "data": {
      "text/plain": [
       "ID                            0\n",
       "LIMIT_BAL                     0\n",
       "SEX                           0\n",
       "EDUCATION                     0\n",
       "MARRIAGE                      0\n",
       "AGE                           0\n",
       "PAY_0                         0\n",
       "PAY_2                         0\n",
       "PAY_3                         0\n",
       "PAY_4                         0\n",
       "PAY_5                         0\n",
       "PAY_6                         0\n",
       "BILL_AMT1                     0\n",
       "BILL_AMT2                     0\n",
       "BILL_AMT3                     0\n",
       "BILL_AMT4                     0\n",
       "BILL_AMT5                     0\n",
       "BILL_AMT6                     0\n",
       "PAY_AMT1                      0\n",
       "PAY_AMT2                      0\n",
       "PAY_AMT3                      0\n",
       "PAY_AMT4                      0\n",
       "PAY_AMT5                      0\n",
       "PAY_AMT6                      0\n",
       "default.payment.next.month    0\n",
       "dtype: int64"
      ]
     },
     "execution_count": 4,
     "metadata": {},
     "output_type": "execute_result"
    }
   ],
   "source": [
    "data.isnull().sum()"
   ]
  },
  {
   "cell_type": "code",
   "execution_count": 5,
   "metadata": {},
   "outputs": [],
   "source": [
    "from sklearn.preprocessing import StandardScaler\n",
    "sc =StandardScaler()"
   ]
  },
  {
   "cell_type": "code",
   "execution_count": 6,
   "metadata": {},
   "outputs": [],
   "source": [
    "x = sc.fit_transform(data)"
   ]
  },
  {
   "cell_type": "code",
   "execution_count": 7,
   "metadata": {},
   "outputs": [],
   "source": [
    "def sampling(args):\n",
    "    mean, logsigma = args\n",
    "    batch = tf.shape(mean)[0]\n",
    "    dim = tf.shape(mean)[1]\n",
    "    epsilon = tf.keras.backend.random_normal(shape=(batch, dim))\n",
    "#     epsilon = K.random_normal(shape=(K.shape(mean)[0], 512), mean=0., stddev=1.0)\n",
    "    return mean + K.exp(logsigma / 2) * epsilon"
   ]
  },
  {
   "cell_type": "code",
   "execution_count": 8,
   "metadata": {},
   "outputs": [],
   "source": [
    "original_shape = x.shape[1]\n",
    "shape = (original_shape,)\n",
    "# inter = 46\n",
    "# inter1 = 32\n",
    "# latent = 2"
   ]
  },
  {
   "cell_type": "code",
   "execution_count": 9,
   "metadata": {},
   "outputs": [],
   "source": [
    "def gauss(x):\n",
    "    return K.exp((-K.square(x)))\n",
    "\n",
    "def morlet_wavelet(x):\n",
    "    return (K.cos(1.75 * x)) * K.exp(-x**2/2)"
   ]
  },
  {
   "cell_type": "code",
   "execution_count": 10,
   "metadata": {},
   "outputs": [
    {
     "name": "stderr",
     "output_type": "stream",
     "text": [
      "2022-11-26 11:44:45.015387: I tensorflow/core/platform/cpu_feature_guard.cc:193] This TensorFlow binary is optimized with oneAPI Deep Neural Network Library (oneDNN) to use the following CPU instructions in performance-critical operations:  SSE4.1 SSE4.2 AVX AVX2 FMA\n",
      "To enable them in other operations, rebuild TensorFlow with the appropriate compiler flags.\n"
     ]
    }
   ],
   "source": [
    "from keras import backend as K \n",
    "from keras.layers import Layer\n",
    "class WNN_1(Layer):\n",
    "    def __init__(self, output_dim, **kwargs):\n",
    "        self.output_dim = output_dim \n",
    "        super(WNN_1, self).__init__(**kwargs)\n",
    "    def build(self, input_shape):\n",
    "        # self.input_shape = input_shape[1]\n",
    "        self.kernel = self.add_weight(name = 'kernel',shape = (input_shape[1], self.output_dim),initializer = 'normal', trainable = True)\n",
    "        # self.dilation = self.add_weight(name='dilation', shape = (input_shape[1],),initializer = 'normal', trainable = True)\n",
    "        # self.dilation = self.dilation\n",
    "        # self.translation = self.add_weight(name='translation', shape = (input_shape[1]),initializer = 'normal', trainable = True)\n",
    "        # self.translation = translation\n",
    "        drx = K.random_normal(shape=(1,18))\n",
    "        self.dilation = drx\n",
    "        self.dilation.requires_grad=True\n",
    "        trx = K.random_normal(shape=(1,18))\n",
    "        self.translation = trx\n",
    "        self.translation.requires_grad=True\n",
    "        super(WNN_1, self).build(input_shape)\n",
    "\n",
    "    def call(self, input_data):\n",
    "        v = K.dot(input_data, self.kernel)\n",
    "        # print(v)\n",
    "        v1 = (v  - self.dilation) / self.translation\n",
    "        # v2 = gauss(v1)\n",
    "        v2 = morlet_wavelet(v1)\n",
    "        # print(v1)\n",
    "        return v2"
   ]
  },
  {
   "cell_type": "code",
   "execution_count": 11,
   "metadata": {},
   "outputs": [],
   "source": [
    "from keras import backend as K \n",
    "from keras.layers import Layer\n",
    "class WNN_2(Layer):\n",
    "    def __init__(self, output_dim, **kwargs):\n",
    "        self.output_dim = output_dim \n",
    "        super(WNN_2, self).__init__(**kwargs)\n",
    "    def build(self, input_shape):\n",
    "        # self.input_shape = input_shape[1]\n",
    "        self.kernel = self.add_weight(name = 'kernel',shape = (input_shape[1], self.output_dim),initializer = 'normal', trainable = True)\n",
    "        # self.dilation = self.add_weight(name='dilation', shape = (input_shape[1],),initializer = 'normal', trainable = True)\n",
    "        # self.dilation = self.dilation\n",
    "        # self.translation = self.add_weight(name='translation', shape = (input_shape[1]),initializer = 'normal', trainable = True)\n",
    "        # self.translation = translation\n",
    "        drx = K.random_normal(shape=(1,18))\n",
    "        self.dilation = drx\n",
    "        self.dilation.requires_grad=True\n",
    "        trx = K.random_normal(shape=(1,18))\n",
    "        self.translation = trx\n",
    "        self.translation.requires_grad=True\n",
    "        super(WNN_2, self).build(input_shape)\n",
    "\n",
    "    def call(self, input_data):\n",
    "        v = K.dot(input_data, self.kernel)\n",
    "        # print(v)\n",
    "        v1 = (v  - self.dilation) / self.translation\n",
    "        # v2 = gauss(v1)\n",
    "        v2 = morlet_wavelet(v1)\n",
    "        # print(v1)\n",
    "        return v2"
   ]
  },
  {
   "cell_type": "code",
   "execution_count": 12,
   "metadata": {},
   "outputs": [
    {
     "data": {
      "text/plain": [
       "25"
      ]
     },
     "execution_count": 12,
     "metadata": {},
     "output_type": "execute_result"
    }
   ],
   "source": [
    "original_shape"
   ]
  },
  {
   "cell_type": "code",
   "execution_count": 13,
   "metadata": {},
   "outputs": [],
   "source": [
    "from keras.models import Sequential, Model\n",
    "from keras.layers import *\n",
    "from keras.optimizers import *\n",
    "import os\n",
    "from keras import metrics, backend as K"
   ]
  },
  {
   "cell_type": "code",
   "execution_count": 14,
   "metadata": {},
   "outputs": [],
   "source": [
    "def encoder():\n",
    "    X = Input(shape=shape)\n",
    "    model = WNN_1(18)(X)\n",
    "    # model = Dense(8,activation='relu')(X)\n",
    "\n",
    "    mean = Dense(2)(model)\n",
    "    logsigma = Dense(2)(model)\n",
    "    latent = Lambda(sampling, output_shape=(2,))([mean, logsigma])\n",
    "    meansigma = Model([X], [mean, logsigma, latent])\n",
    "    return meansigma\n",
    "# Lambda(Sampling(), output_shape=(latent,),name='z-samples')([z_mu, z_log_var])"
   ]
  },
  {
   "cell_type": "code",
   "execution_count": 15,
   "metadata": {},
   "outputs": [],
   "source": [
    "def decoder():\n",
    "    X = Input(shape=(2,))\n",
    "    model1 = WNN_2(18)(X)\n",
    "    # model1 = Dense(8,activation='relu')(X)\n",
    "   \n",
    "    model = Dense(original_shape,activation='tanh')(model1)\n",
    "    model = Model(X, model)\n",
    "    return model"
   ]
  },
  {
   "cell_type": "code",
   "execution_count": 16,
   "metadata": {},
   "outputs": [
    {
     "name": "stderr",
     "output_type": "stream",
     "text": [
      "/home/k8user/anaconda3/lib/python3.9/site-packages/keras/optimizers/optimizer_v2/adam.py:114: UserWarning: The `lr` argument is deprecated, use `learning_rate` instead.\n",
      "  super().__init__(name, **kwargs)\n"
     ]
    }
   ],
   "source": [
    "from tensorflow.keras.optimizers import Adam\n",
    "\n",
    "ADAMop = Adam(lr=0.001)"
   ]
  },
  {
   "cell_type": "code",
   "execution_count": 17,
   "metadata": {},
   "outputs": [
    {
     "name": "stdout",
     "output_type": "stream",
     "text": [
      "Model: \"model\"\n",
      "__________________________________________________________________________________________________\n",
      " Layer (type)                   Output Shape         Param #     Connected to                     \n",
      "==================================================================================================\n",
      " input_1 (InputLayer)           [(None, 25)]         0           []                               \n",
      "                                                                                                  \n",
      " wnn_1 (WNN_1)                  (None, 18)           450         ['input_1[0][0]']                \n",
      "                                                                                                  \n",
      " dense (Dense)                  (None, 2)            38          ['wnn_1[0][0]']                  \n",
      "                                                                                                  \n",
      " dense_1 (Dense)                (None, 2)            38          ['wnn_1[0][0]']                  \n",
      "                                                                                                  \n",
      " lambda (Lambda)                (None, 2)            0           ['dense[0][0]',                  \n",
      "                                                                  'dense_1[0][0]']                \n",
      "                                                                                                  \n",
      "==================================================================================================\n",
      "Total params: 526\n",
      "Trainable params: 526\n",
      "Non-trainable params: 0\n",
      "__________________________________________________________________________________________________\n"
     ]
    },
    {
     "name": "stderr",
     "output_type": "stream",
     "text": [
      "2022-11-26 11:44:52.985040: I tensorflow/core/platform/cpu_feature_guard.cc:193] This TensorFlow binary is optimized with oneAPI Deep Neural Network Library (oneDNN) to use the following CPU instructions in performance-critical operations:  SSE4.1 SSE4.2 AVX AVX2 FMA\n",
      "To enable them in other operations, rebuild TensorFlow with the appropriate compiler flags.\n",
      "2022-11-26 11:44:52.986120: I tensorflow/core/common_runtime/process_util.cc:146] Creating new thread pool with default inter op setting: 2. Tune using inter_op_parallelism_threads for best performance.\n"
     ]
    }
   ],
   "source": [
    "# encoder\n",
    "E = encoder()\n",
    "# E.compile(optimizer=ADAMop, loss='mse')\n",
    "E.summary()"
   ]
  },
  {
   "cell_type": "code",
   "execution_count": 18,
   "metadata": {},
   "outputs": [
    {
     "name": "stdout",
     "output_type": "stream",
     "text": [
      "Model: \"model_1\"\n",
      "_________________________________________________________________\n",
      " Layer (type)                Output Shape              Param #   \n",
      "=================================================================\n",
      " input_2 (InputLayer)        [(None, 2)]               0         \n",
      "                                                                 \n",
      " wnn_2 (WNN_2)               (None, 18)                36        \n",
      "                                                                 \n",
      " dense_2 (Dense)             (None, 25)                475       \n",
      "                                                                 \n",
      "=================================================================\n",
      "Total params: 511\n",
      "Trainable params: 511\n",
      "Non-trainable params: 0\n",
      "_________________________________________________________________\n"
     ]
    }
   ],
   "source": [
    "# generator/decoder\n",
    "G = decoder()\n",
    "# G.compile(optimizer=ADAMop, loss='mse')\n",
    "G.summary()"
   ]
  },
  {
   "cell_type": "code",
   "execution_count": 19,
   "metadata": {},
   "outputs": [],
   "source": [
    "# VAE\n",
    "X = Input(shape=(shape))\n",
    "# latent_rep = E(X)[0]\n",
    "# output = G(latent_rep)\n",
    "E_mean, E_logsigma, Z = E(X)"
   ]
  },
  {
   "cell_type": "code",
   "execution_count": 20,
   "metadata": {},
   "outputs": [
    {
     "data": {
      "text/plain": [
       "<KerasTensor: shape=(None, 2) dtype=float32 (created by layer 'model')>"
      ]
     },
     "execution_count": 20,
     "metadata": {},
     "output_type": "execute_result"
    }
   ],
   "source": [
    "Z"
   ]
  },
  {
   "cell_type": "code",
   "execution_count": 21,
   "metadata": {},
   "outputs": [
    {
     "name": "stdout",
     "output_type": "stream",
     "text": [
      "KerasTensor(type_spec=TensorSpec(shape=(None, 25), dtype=tf.float32, name=None), name='model_1/dense_2/Tanh:0', description=\"created by layer 'model_1'\")\n"
     ]
    }
   ],
   "source": [
    "output = G(Z)\n",
    "print(output)"
   ]
  },
  {
   "cell_type": "code",
   "execution_count": 22,
   "metadata": {},
   "outputs": [],
   "source": [
    "VAE = Model(X, output)\n",
    "# VAE = Model(X, G(E(X)))"
   ]
  },
  {
   "cell_type": "code",
   "execution_count": 23,
   "metadata": {
    "scrolled": true
   },
   "outputs": [
    {
     "name": "stdout",
     "output_type": "stream",
     "text": [
      "Model: \"model_2\"\n",
      "__________________________________________________________________________________________________\n",
      " Layer (type)                   Output Shape         Param #     Connected to                     \n",
      "==================================================================================================\n",
      " input_3 (InputLayer)           [(None, 25)]         0           []                               \n",
      "                                                                                                  \n",
      " model (Functional)             [(None, 2),          526         ['input_3[0][0]']                \n",
      "                                 (None, 2),                                                       \n",
      "                                 (None, 2)]                                                       \n",
      "                                                                                                  \n",
      " model_1 (Functional)           (None, 25)           511         ['model[0][2]']                  \n",
      "                                                                                                  \n",
      " tf.__operators__.add (TFOpLamb  (None, 2)           0           ['model[0][1]']                  \n",
      " da)                                                                                              \n",
      "                                                                                                  \n",
      " tf.math.square (TFOpLambda)    (None, 2)            0           ['model[0][0]']                  \n",
      "                                                                                                  \n",
      " tf.convert_to_tensor (TFOpLamb  (None, 25)          0           ['model_1[0][0]']                \n",
      " da)                                                                                              \n",
      "                                                                                                  \n",
      " tf.cast (TFOpLambda)           (None, 25)           0           ['input_3[0][0]']                \n",
      "                                                                                                  \n",
      " tf.math.subtract (TFOpLambda)  (None, 2)            0           ['tf.__operators__.add[0][0]',   \n",
      "                                                                  'tf.math.square[0][0]']         \n",
      "                                                                                                  \n",
      " tf.math.exp (TFOpLambda)       (None, 2)            0           ['model[0][1]']                  \n",
      "                                                                                                  \n",
      " tf.math.squared_difference (TF  (None, 25)          0           ['tf.convert_to_tensor[0][0]',   \n",
      " OpLambda)                                                        'tf.cast[0][0]']                \n",
      "                                                                                                  \n",
      " tf.math.subtract_1 (TFOpLambda  (None, 2)           0           ['tf.math.subtract[0][0]',       \n",
      " )                                                                'tf.math.exp[0][0]']            \n",
      "                                                                                                  \n",
      " tf.math.reduce_mean (TFOpLambd  (None,)             0           ['tf.math.squared_difference[0][0\n",
      " a)                                                              ]']                              \n",
      "                                                                                                  \n",
      " tf.math.reduce_sum (TFOpLambda  (None,)             0           ['tf.math.subtract_1[0][0]']     \n",
      " )                                                                                                \n",
      "                                                                                                  \n",
      " tf.math.multiply_1 (TFOpLambda  (None,)             0           ['tf.math.reduce_mean[0][0]']    \n",
      " )                                                                                                \n",
      "                                                                                                  \n",
      " tf.math.multiply (TFOpLambda)  (None,)              0           ['tf.math.reduce_sum[0][0]']     \n",
      "                                                                                                  \n",
      " tf.__operators__.add_1 (TFOpLa  (None,)             0           ['tf.math.multiply_1[0][0]',     \n",
      " mbda)                                                            'tf.math.multiply[0][0]']       \n",
      "                                                                                                  \n",
      " tf.math.reduce_mean_1 (TFOpLam  ()                  0           ['tf.__operators__.add_1[0][0]'] \n",
      " bda)                                                                                             \n",
      "                                                                                                  \n",
      " add_loss (AddLoss)             ()                   0           ['tf.math.reduce_mean_1[0][0]']  \n",
      "                                                                                                  \n",
      "==================================================================================================\n",
      "Total params: 1,037\n",
      "Trainable params: 1,037\n",
      "Non-trainable params: 0\n",
      "__________________________________________________________________________________________________\n"
     ]
    }
   ],
   "source": [
    "kl = - 0.5 * K.sum(1 + E_logsigma - K.square(E_mean) - K.exp(E_logsigma), axis=-1)\n",
    "crossent = metrics.mse(X, output)\n",
    "crossent *= original_shape\n",
    "VAEloss = K.mean(crossent + kl)\n",
    "VAE.add_loss(VAEloss)\n",
    "VAE.compile(optimizer=ADAMop)\n",
    "VAE.summary()"
   ]
  },
  {
   "cell_type": "code",
   "execution_count": 24,
   "metadata": {},
   "outputs": [],
   "source": [
    "# !pip install pydot\n",
    "import pydot\n",
    "import graphviz"
   ]
  },
  {
   "cell_type": "code",
   "execution_count": 25,
   "metadata": {},
   "outputs": [],
   "source": [
    "# tf.keras.utils.plot_model(VAE, show_shapes=True);"
   ]
  },
  {
   "cell_type": "code",
   "execution_count": 26,
   "metadata": {
    "tags": []
   },
   "outputs": [
    {
     "name": "stdout",
     "output_type": "stream",
     "text": [
      "Epoch 1/150\n",
      "422/422 [==============================] - 3s 6ms/step - loss: 22.5319 - val_loss: 28.5064\n",
      "Epoch 2/150\n",
      "422/422 [==============================] - 2s 5ms/step - loss: 19.6026 - val_loss: 27.4010\n",
      "Epoch 3/150\n",
      "422/422 [==============================] - 2s 5ms/step - loss: 19.0220 - val_loss: 27.0063\n",
      "Epoch 4/150\n",
      "422/422 [==============================] - 2s 6ms/step - loss: 18.6354 - val_loss: 26.4321\n",
      "Epoch 5/150\n",
      "422/422 [==============================] - 2s 5ms/step - loss: 18.4253 - val_loss: 26.4251\n",
      "Epoch 6/150\n",
      "422/422 [==============================] - 2s 5ms/step - loss: 18.3505 - val_loss: 26.3342\n",
      "Epoch 7/150\n",
      "422/422 [==============================] - 2s 6ms/step - loss: 18.2808 - val_loss: 26.3033\n",
      "Epoch 8/150\n",
      "422/422 [==============================] - 2s 5ms/step - loss: 18.2293 - val_loss: 26.1245\n",
      "Epoch 9/150\n",
      "422/422 [==============================] - 2s 5ms/step - loss: 18.1848 - val_loss: 26.1231\n",
      "Epoch 10/150\n",
      "422/422 [==============================] - 2s 4ms/step - loss: 18.1924 - val_loss: 26.4365\n",
      "Epoch 11/150\n",
      "422/422 [==============================] - 2s 5ms/step - loss: 18.1540 - val_loss: 26.2261\n",
      "Epoch 12/150\n",
      "422/422 [==============================] - 2s 5ms/step - loss: 18.1379 - val_loss: 26.2510\n",
      "Epoch 13/150\n",
      "422/422 [==============================] - 2s 4ms/step - loss: 18.1077 - val_loss: 26.1835\n",
      "Epoch 14/150\n",
      "422/422 [==============================] - 2s 5ms/step - loss: 18.0902 - val_loss: 26.1614\n",
      "Epoch 15/150\n",
      "422/422 [==============================] - 2s 5ms/step - loss: 18.0887 - val_loss: 26.1930\n",
      "Epoch 16/150\n",
      "422/422 [==============================] - 2s 5ms/step - loss: 18.0798 - val_loss: 26.0355\n",
      "Epoch 17/150\n",
      "422/422 [==============================] - 2s 5ms/step - loss: 18.0876 - val_loss: 26.1997\n",
      "Epoch 18/150\n",
      "422/422 [==============================] - 2s 5ms/step - loss: 18.0489 - val_loss: 26.2142\n",
      "Epoch 19/150\n",
      "422/422 [==============================] - 2s 4ms/step - loss: 18.0550 - val_loss: 26.1812\n",
      "Epoch 20/150\n",
      "422/422 [==============================] - 2s 4ms/step - loss: 18.0466 - val_loss: 26.2786\n",
      "Epoch 21/150\n",
      "422/422 [==============================] - 2s 5ms/step - loss: 18.0450 - val_loss: 26.1877\n",
      "Epoch 22/150\n",
      "422/422 [==============================] - 2s 5ms/step - loss: 18.0330 - val_loss: 26.0903\n",
      "Epoch 23/150\n",
      "422/422 [==============================] - 2s 5ms/step - loss: 18.0410 - val_loss: 26.0294\n",
      "Epoch 24/150\n",
      "422/422 [==============================] - 2s 5ms/step - loss: 18.0269 - val_loss: 26.0134\n",
      "Epoch 25/150\n",
      "422/422 [==============================] - 2s 5ms/step - loss: 18.0132 - val_loss: 26.1412\n",
      "Epoch 26/150\n",
      "422/422 [==============================] - 2s 5ms/step - loss: 18.0003 - val_loss: 26.2440\n",
      "Epoch 27/150\n",
      "422/422 [==============================] - 2s 5ms/step - loss: 18.0121 - val_loss: 25.9704\n",
      "Epoch 28/150\n",
      "422/422 [==============================] - 2s 5ms/step - loss: 18.0090 - val_loss: 26.0368\n",
      "Epoch 29/150\n",
      "422/422 [==============================] - 2s 5ms/step - loss: 18.0226 - val_loss: 26.0442\n",
      "Epoch 30/150\n",
      "422/422 [==============================] - 2s 5ms/step - loss: 18.0036 - val_loss: 26.1906\n",
      "Epoch 31/150\n",
      "422/422 [==============================] - 2s 5ms/step - loss: 17.9997 - val_loss: 26.2372\n",
      "Epoch 32/150\n",
      "422/422 [==============================] - 2s 4ms/step - loss: 17.9903 - val_loss: 26.1203\n",
      "Epoch 33/150\n",
      "422/422 [==============================] - 2s 5ms/step - loss: 17.9997 - val_loss: 26.0110\n",
      "Epoch 34/150\n",
      "422/422 [==============================] - 2s 5ms/step - loss: 17.9933 - val_loss: 26.2012\n",
      "Epoch 35/150\n",
      "422/422 [==============================] - 2s 5ms/step - loss: 17.9885 - val_loss: 26.0437\n",
      "Epoch 36/150\n",
      "422/422 [==============================] - 2s 5ms/step - loss: 17.9704 - val_loss: 26.1338\n",
      "Epoch 37/150\n",
      "422/422 [==============================] - 2s 5ms/step - loss: 17.9828 - val_loss: 25.9555\n",
      "Epoch 38/150\n",
      "422/422 [==============================] - 2s 5ms/step - loss: 17.9988 - val_loss: 26.0128\n",
      "Epoch 39/150\n",
      "422/422 [==============================] - 2s 5ms/step - loss: 17.9822 - val_loss: 26.0064\n",
      "Epoch 40/150\n",
      "422/422 [==============================] - 2s 5ms/step - loss: 17.9633 - val_loss: 25.9248\n",
      "Epoch 41/150\n",
      "422/422 [==============================] - 2s 5ms/step - loss: 17.9712 - val_loss: 25.8826\n",
      "Epoch 42/150\n",
      "422/422 [==============================] - 2s 5ms/step - loss: 17.9722 - val_loss: 25.9456\n",
      "Epoch 43/150\n",
      "422/422 [==============================] - 2s 5ms/step - loss: 17.9538 - val_loss: 25.9316\n",
      "Epoch 44/150\n",
      "422/422 [==============================] - 2s 5ms/step - loss: 17.9505 - val_loss: 26.1082\n",
      "Epoch 45/150\n",
      "422/422 [==============================] - 2s 5ms/step - loss: 17.9645 - val_loss: 26.2011\n",
      "Epoch 46/150\n",
      "422/422 [==============================] - 2s 4ms/step - loss: 17.9819 - val_loss: 26.0608\n",
      "Epoch 47/150\n",
      "422/422 [==============================] - 2s 5ms/step - loss: 17.9658 - val_loss: 26.1551\n",
      "Epoch 48/150\n",
      "422/422 [==============================] - 2s 5ms/step - loss: 17.9358 - val_loss: 26.0117\n",
      "Epoch 49/150\n",
      "422/422 [==============================] - 2s 5ms/step - loss: 17.9436 - val_loss: 26.0280\n",
      "Epoch 50/150\n",
      "422/422 [==============================] - 2s 5ms/step - loss: 17.9499 - val_loss: 26.1563\n",
      "Epoch 51/150\n",
      "422/422 [==============================] - 2s 5ms/step - loss: 17.9244 - val_loss: 25.9686\n",
      "Epoch 52/150\n",
      "422/422 [==============================] - 2s 5ms/step - loss: 17.9264 - val_loss: 25.7752\n",
      "Epoch 53/150\n",
      "422/422 [==============================] - 2s 5ms/step - loss: 17.9432 - val_loss: 26.0172\n",
      "Epoch 54/150\n",
      "422/422 [==============================] - 2s 6ms/step - loss: 17.9415 - val_loss: 26.0591\n",
      "Epoch 55/150\n",
      "422/422 [==============================] - 3s 7ms/step - loss: 17.9238 - val_loss: 26.0523\n",
      "Epoch 56/150\n",
      "422/422 [==============================] - 2s 6ms/step - loss: 17.9218 - val_loss: 25.9628\n",
      "Epoch 57/150\n",
      "422/422 [==============================] - 2s 5ms/step - loss: 17.9213 - val_loss: 25.9942\n",
      "Epoch 58/150\n",
      "422/422 [==============================] - 2s 4ms/step - loss: 17.9156 - val_loss: 25.9396\n",
      "Epoch 59/150\n",
      "422/422 [==============================] - 2s 4ms/step - loss: 17.9256 - val_loss: 26.0715\n",
      "Epoch 60/150\n",
      "422/422 [==============================] - 2s 5ms/step - loss: 17.9219 - val_loss: 26.0867\n",
      "Epoch 61/150\n",
      "422/422 [==============================] - 1s 3ms/step - loss: 17.9038 - val_loss: 25.7905\n",
      "Epoch 62/150\n",
      "422/422 [==============================] - 2s 4ms/step - loss: 17.9131 - val_loss: 25.9631\n",
      "Epoch 63/150\n",
      "422/422 [==============================] - 2s 4ms/step - loss: 17.9244 - val_loss: 25.9281\n",
      "Epoch 64/150\n",
      "422/422 [==============================] - 2s 4ms/step - loss: 17.9113 - val_loss: 25.9262\n",
      "Epoch 65/150\n",
      "422/422 [==============================] - 1s 3ms/step - loss: 17.9119 - val_loss: 25.8109\n",
      "Epoch 66/150\n",
      "422/422 [==============================] - 2s 4ms/step - loss: 17.8937 - val_loss: 25.8513\n",
      "Epoch 67/150\n",
      "422/422 [==============================] - 2s 4ms/step - loss: 17.8881 - val_loss: 26.0205\n",
      "Epoch 68/150\n",
      "422/422 [==============================] - 2s 4ms/step - loss: 17.8837 - val_loss: 25.9368\n",
      "Epoch 69/150\n",
      "422/422 [==============================] - 2s 4ms/step - loss: 17.8909 - val_loss: 25.9762\n",
      "Epoch 70/150\n",
      "422/422 [==============================] - 2s 4ms/step - loss: 17.8857 - val_loss: 25.9492\n",
      "Epoch 71/150\n",
      "422/422 [==============================] - 2s 4ms/step - loss: 17.8838 - val_loss: 25.9147\n",
      "Epoch 72/150\n",
      "422/422 [==============================] - 2s 4ms/step - loss: 17.9148 - val_loss: 25.8810\n",
      "Epoch 73/150\n",
      "422/422 [==============================] - 2s 4ms/step - loss: 17.8948 - val_loss: 25.8670\n",
      "Epoch 74/150\n",
      "422/422 [==============================] - 2s 4ms/step - loss: 17.8821 - val_loss: 25.9578\n",
      "Epoch 75/150\n",
      "422/422 [==============================] - 2s 4ms/step - loss: 17.8929 - val_loss: 25.7950\n",
      "Epoch 76/150\n",
      "422/422 [==============================] - 2s 4ms/step - loss: 17.8982 - val_loss: 25.9732\n",
      "Epoch 77/150\n",
      "422/422 [==============================] - 2s 4ms/step - loss: 17.8917 - val_loss: 25.9083\n",
      "Epoch 78/150\n",
      "422/422 [==============================] - 2s 4ms/step - loss: 17.8619 - val_loss: 25.7994\n",
      "Epoch 79/150\n",
      "422/422 [==============================] - 2s 4ms/step - loss: 17.8662 - val_loss: 25.6853\n"
     ]
    },
    {
     "name": "stdout",
     "output_type": "stream",
     "text": [
      "Epoch 80/150\n",
      "422/422 [==============================] - 2s 4ms/step - loss: 17.8674 - val_loss: 25.9460\n",
      "Epoch 81/150\n",
      "422/422 [==============================] - 1s 3ms/step - loss: 17.8741 - val_loss: 25.7668\n",
      "Epoch 82/150\n",
      "422/422 [==============================] - 2s 4ms/step - loss: 17.8621 - val_loss: 25.8366\n",
      "Epoch 83/150\n",
      "422/422 [==============================] - 2s 4ms/step - loss: 17.8580 - val_loss: 25.8669\n",
      "Epoch 84/150\n",
      "422/422 [==============================] - 1s 3ms/step - loss: 17.8510 - val_loss: 25.9575\n",
      "Epoch 85/150\n",
      "422/422 [==============================] - 2s 4ms/step - loss: 17.8669 - val_loss: 25.9876\n",
      "Epoch 86/150\n",
      "422/422 [==============================] - 2s 4ms/step - loss: 17.8626 - val_loss: 25.7368\n",
      "Epoch 87/150\n",
      "422/422 [==============================] - 2s 4ms/step - loss: 17.8772 - val_loss: 25.7043\n",
      "Epoch 88/150\n",
      "422/422 [==============================] - 2s 4ms/step - loss: 17.8746 - val_loss: 25.9427\n",
      "Epoch 89/150\n",
      "422/422 [==============================] - 1s 3ms/step - loss: 17.8630 - val_loss: 25.9045\n",
      "Epoch 90/150\n",
      "422/422 [==============================] - 2s 4ms/step - loss: 17.8470 - val_loss: 25.8211\n",
      "Epoch 91/150\n",
      "422/422 [==============================] - 2s 4ms/step - loss: 17.8466 - val_loss: 25.8505\n",
      "Epoch 92/150\n",
      "422/422 [==============================] - 1s 3ms/step - loss: 17.8634 - val_loss: 26.0409\n",
      "Epoch 93/150\n",
      "422/422 [==============================] - 2s 4ms/step - loss: 17.8463 - val_loss: 25.8392\n",
      "Epoch 94/150\n",
      "422/422 [==============================] - 2s 4ms/step - loss: 17.8362 - val_loss: 25.7750\n",
      "Epoch 95/150\n",
      "422/422 [==============================] - 2s 4ms/step - loss: 17.8545 - val_loss: 25.9115\n",
      "Epoch 96/150\n",
      "422/422 [==============================] - 1s 3ms/step - loss: 17.8391 - val_loss: 25.8296\n",
      "Epoch 97/150\n",
      "422/422 [==============================] - 2s 5ms/step - loss: 17.8462 - val_loss: 25.8689\n",
      "Epoch 98/150\n",
      "422/422 [==============================] - 2s 4ms/step - loss: 17.8417 - val_loss: 25.7694\n",
      "Epoch 99/150\n",
      "422/422 [==============================] - 2s 4ms/step - loss: 17.8387 - val_loss: 25.8617\n",
      "Epoch 100/150\n",
      "422/422 [==============================] - 2s 4ms/step - loss: 17.8224 - val_loss: 25.8176\n",
      "Epoch 101/150\n",
      "422/422 [==============================] - 2s 4ms/step - loss: 17.8235 - val_loss: 25.9379\n",
      "Epoch 102/150\n",
      "422/422 [==============================] - 2s 4ms/step - loss: 17.8034 - val_loss: 25.8661\n",
      "Epoch 103/150\n",
      "422/422 [==============================] - 2s 4ms/step - loss: 17.8354 - val_loss: 25.8206\n",
      "Epoch 104/150\n",
      "422/422 [==============================] - 2s 4ms/step - loss: 17.8337 - val_loss: 25.8994\n",
      "Epoch 105/150\n",
      "422/422 [==============================] - 2s 4ms/step - loss: 17.8033 - val_loss: 25.7523\n",
      "Epoch 106/150\n",
      "422/422 [==============================] - 2s 4ms/step - loss: 17.8274 - val_loss: 25.7863\n",
      "Epoch 107/150\n",
      "422/422 [==============================] - 2s 4ms/step - loss: 17.7914 - val_loss: 25.8198\n",
      "Epoch 108/150\n",
      "422/422 [==============================] - 2s 4ms/step - loss: 17.7817 - val_loss: 25.7263\n",
      "Epoch 109/150\n",
      "422/422 [==============================] - 1s 3ms/step - loss: 17.8022 - val_loss: 25.8568\n",
      "Epoch 110/150\n",
      "422/422 [==============================] - 2s 4ms/step - loss: 17.7666 - val_loss: 25.7708\n",
      "Epoch 111/150\n",
      "422/422 [==============================] - 2s 4ms/step - loss: 17.7771 - val_loss: 25.6855\n",
      "Epoch 112/150\n",
      "422/422 [==============================] - 2s 4ms/step - loss: 17.7642 - val_loss: 25.7078\n",
      "Epoch 113/150\n",
      "422/422 [==============================] - 1s 3ms/step - loss: 17.7725 - val_loss: 25.8113\n",
      "Epoch 114/150\n",
      "422/422 [==============================] - 2s 4ms/step - loss: 17.7516 - val_loss: 25.6708\n",
      "Epoch 115/150\n",
      "422/422 [==============================] - 2s 4ms/step - loss: 17.7768 - val_loss: 25.7105\n",
      "Epoch 116/150\n",
      "422/422 [==============================] - 2s 4ms/step - loss: 17.7586 - val_loss: 25.5991\n",
      "Epoch 117/150\n",
      "422/422 [==============================] - 2s 4ms/step - loss: 17.7414 - val_loss: 25.7351\n",
      "Epoch 118/150\n",
      "422/422 [==============================] - 2s 4ms/step - loss: 17.7508 - val_loss: 25.6052\n",
      "Epoch 119/150\n",
      "422/422 [==============================] - 2s 4ms/step - loss: 17.7437 - val_loss: 25.6933\n",
      "Epoch 120/150\n",
      "422/422 [==============================] - 1s 3ms/step - loss: 17.7346 - val_loss: 25.5652\n",
      "Epoch 121/150\n",
      "422/422 [==============================] - 2s 4ms/step - loss: 17.7240 - val_loss: 25.7334\n",
      "Epoch 122/150\n",
      "422/422 [==============================] - 2s 4ms/step - loss: 17.7287 - val_loss: 25.6165\n",
      "Epoch 123/150\n",
      "422/422 [==============================] - 2s 4ms/step - loss: 17.7201 - val_loss: 25.5864\n",
      "Epoch 124/150\n",
      "422/422 [==============================] - 2s 4ms/step - loss: 17.7366 - val_loss: 25.6032\n",
      "Epoch 125/150\n",
      "422/422 [==============================] - 2s 4ms/step - loss: 17.7345 - val_loss: 25.8173\n",
      "Epoch 126/150\n",
      "422/422 [==============================] - 2s 4ms/step - loss: 17.7313 - val_loss: 25.7512\n",
      "Epoch 127/150\n",
      "422/422 [==============================] - 2s 4ms/step - loss: 17.7273 - val_loss: 25.8680\n",
      "Epoch 128/150\n",
      "422/422 [==============================] - 2s 5ms/step - loss: 17.7192 - val_loss: 25.6014\n",
      "Epoch 129/150\n",
      "422/422 [==============================] - 1s 3ms/step - loss: 17.7349 - val_loss: 25.5549\n",
      "Epoch 130/150\n",
      "422/422 [==============================] - 2s 4ms/step - loss: 17.7478 - val_loss: 25.5860\n",
      "Epoch 131/150\n",
      "422/422 [==============================] - 2s 4ms/step - loss: 17.7409 - val_loss: 25.7979\n",
      "Epoch 132/150\n",
      "422/422 [==============================] - 2s 4ms/step - loss: 17.7243 - val_loss: 25.6535\n",
      "Epoch 133/150\n",
      "422/422 [==============================] - 1s 3ms/step - loss: 17.6909 - val_loss: 25.5533\n",
      "Epoch 134/150\n",
      "422/422 [==============================] - 2s 4ms/step - loss: 17.7214 - val_loss: 25.7177\n",
      "Epoch 135/150\n",
      "422/422 [==============================] - 2s 4ms/step - loss: 17.7095 - val_loss: 25.4918\n",
      "Epoch 136/150\n",
      "422/422 [==============================] - 2s 4ms/step - loss: 17.7329 - val_loss: 25.6835\n",
      "Epoch 137/150\n",
      "422/422 [==============================] - 2s 4ms/step - loss: 17.6946 - val_loss: 25.5032\n",
      "Epoch 138/150\n",
      "422/422 [==============================] - 2s 4ms/step - loss: 17.7139 - val_loss: 25.6263\n",
      "Epoch 139/150\n",
      "422/422 [==============================] - 1s 3ms/step - loss: 17.7093 - val_loss: 25.6488\n",
      "Epoch 140/150\n",
      "422/422 [==============================] - 1s 4ms/step - loss: 17.7013 - val_loss: 25.5978\n",
      "Epoch 141/150\n",
      "422/422 [==============================] - 2s 4ms/step - loss: 17.7198 - val_loss: 25.6392\n",
      "Epoch 142/150\n",
      "422/422 [==============================] - 2s 5ms/step - loss: 17.7052 - val_loss: 25.7074\n",
      "Epoch 143/150\n",
      "422/422 [==============================] - 1s 3ms/step - loss: 17.6962 - val_loss: 25.7144\n",
      "Epoch 144/150\n",
      "422/422 [==============================] - 2s 4ms/step - loss: 17.7071 - val_loss: 25.6375\n",
      "Epoch 145/150\n",
      "422/422 [==============================] - 2s 4ms/step - loss: 17.6946 - val_loss: 25.6318\n",
      "Epoch 146/150\n",
      "422/422 [==============================] - 2s 4ms/step - loss: 17.7032 - val_loss: 25.5759\n",
      "Epoch 147/150\n",
      "422/422 [==============================] - 2s 4ms/step - loss: 17.6963 - val_loss: 25.6558\n",
      "Epoch 148/150\n",
      "422/422 [==============================] - 2s 4ms/step - loss: 17.7068 - val_loss: 25.7317\n",
      "Epoch 149/150\n",
      "422/422 [==============================] - 1s 3ms/step - loss: 17.7049 - val_loss: 25.4748\n",
      "Epoch 150/150\n",
      "422/422 [==============================] - 2s 4ms/step - loss: 17.7076 - val_loss: 25.6481\n"
     ]
    }
   ],
   "source": [
    "model1 = VAE.fit(x, x, batch_size=64, validation_split=0.1, epochs=150)"
   ]
  },
  {
   "cell_type": "code",
   "execution_count": 27,
   "metadata": {},
   "outputs": [],
   "source": [
    "nodes = [5,8,10]\n",
    "lat_dim = [2,5]\n",
    "epoch = [50,100,150]\n",
    "lr = [0.001,0.005,0.009,0.01]\n",
    "moment = [0.001,0.005,0.009,0.008,0.01]\n",
    "batch_size = [32,64]"
   ]
  },
  {
   "cell_type": "code",
   "execution_count": 28,
   "metadata": {},
   "outputs": [],
   "source": [
    "max_value = None\n",
    "best_mse = None\n",
    "from sklearn.metrics import mean_squared_error"
   ]
  },
  {
   "cell_type": "code",
   "execution_count": 29,
   "metadata": {
    "scrolled": true,
    "tags": []
   },
   "outputs": [],
   "source": [
    "# import time\n",
    "# mses_adam = []\n",
    "# for i in range(len(epoch)):\n",
    "#     for j in range(len(lr)):\n",
    "#         for b in range(len(batch_size)):\n",
    "#             start = time.time()\n",
    "#             # vae.add_loss(vae_loss)\n",
    "#             VAE.compile(optimizer=Adam(learning_rate=lr[j]))\n",
    "#             VAE.fit(x, x, epochs=epoch[i],batch_size=batch_size[b], validation_split=0.1)\n",
    "#             X_predict = VAE.predict(x)\n",
    "#             print(mean_squared_error(x, X_predict))\n",
    "#             mses_adam.append(mean_squared_error(x, X_predict))\n",
    "# #             for error in mses_adam:\n",
    "# #                 if (max_value is None or error > max_value):\n",
    "# #                     max_value = error\n",
    "                    \n",
    "# #                     best_mse = VAE\n",
    "#             elapsed_time_fl = (time.time() - start)\n",
    "#             print(\"elapsed time for each combination: \",elapsed_time_fl)\n",
    "#             print(\"\\n\")\n",
    "#             print(\"==================================================================\")\n",
    "            \n",
    "# print(best_mse)"
   ]
  },
  {
   "cell_type": "code",
   "execution_count": 30,
   "metadata": {},
   "outputs": [],
   "source": [
    "# for i in range(len(epoch)):\n",
    "#     for j in range(len(lr)):\n",
    "#         for b in range(len(batch_size)):\n",
    "#             print(epoch[i],lr[j],batch_size[b])"
   ]
  },
  {
   "cell_type": "code",
   "execution_count": 31,
   "metadata": {},
   "outputs": [],
   "source": [
    "# len(mses_adam)\n",
    "# mses_adam"
   ]
  },
  {
   "cell_type": "code",
   "execution_count": 32,
   "metadata": {},
   "outputs": [],
   "source": [
    "# (pd.DataFrame(mses_adam)).min()"
   ]
  },
  {
   "cell_type": "code",
   "execution_count": null,
   "metadata": {},
   "outputs": [],
   "source": []
  },
  {
   "cell_type": "code",
   "execution_count": 33,
   "metadata": {
    "scrolled": true
   },
   "outputs": [
    {
     "name": "stdout",
     "output_type": "stream",
     "text": [
      "938/938 [==============================] - 2s 2ms/step\n"
     ]
    }
   ],
   "source": [
    "pred=VAE.predict(x)"
   ]
  },
  {
   "cell_type": "code",
   "execution_count": 34,
   "metadata": {},
   "outputs": [
    {
     "data": {
      "text/plain": [
       "8"
      ]
     },
     "execution_count": 34,
     "metadata": {},
     "output_type": "execute_result"
    }
   ],
   "source": [
    "len(VAE.get_weights())"
   ]
  },
  {
   "cell_type": "code",
   "execution_count": null,
   "metadata": {},
   "outputs": [],
   "source": []
  },
  {
   "cell_type": "markdown",
   "id": "9bcaf291-1e5d-401a-b558-976deac06647",
   "metadata": {},
   "source": [
    "## New Model"
   ]
  },
  {
   "cell_type": "markdown",
   "id": "470b1701-0e3b-4a9d-b0cd-7fb08dfdbe3e",
   "metadata": {
    "id": "1Hw1u1V2YlfY"
   },
   "source": [
    "## Encoder"
   ]
  },
  {
   "cell_type": "code",
   "execution_count": 35,
   "metadata": {},
   "outputs": [],
   "source": [
    "def encoder1():\n",
    "    X = Input(shape=shape)\n",
    "    model = WNN_1(18)(X)\n",
    "    # model = Dense(8,activation='relu')(X)\n",
    "\n",
    "    mean = Dense(2)(model)\n",
    "    logsigma = Dense(2)(model)\n",
    "    latent = Lambda(sampling, output_shape=(2,))([mean, logsigma])\n",
    "    meansigma = Model([X], [mean, logsigma, latent])\n",
    "    return meansigma\n",
    "# Lambda(Sampling(), output_shape=(latent,),name='z-samples')([z_mu, z_log_var])"
   ]
  },
  {
   "cell_type": "code",
   "execution_count": 36,
   "metadata": {},
   "outputs": [],
   "source": [
    "def decoder1():\n",
    "    X = Input(shape=(2,))\n",
    "    model1 = WNN_2(18)(X)\n",
    "    # model1 = Dense(8,activation='relu')(X)\n",
    "   \n",
    "#     model = Dense(original_shape,activation='tanh')(model1)\n",
    "    model = Model(X, model1)\n",
    "    return model"
   ]
  },
  {
   "cell_type": "code",
   "execution_count": 37,
   "metadata": {},
   "outputs": [],
   "source": [
    "from tensorflow.keras.optimizers import Adam\n",
    "\n",
    "ADAMop1 = Adam(learning_rate=0.001)"
   ]
  },
  {
   "cell_type": "code",
   "execution_count": 38,
   "metadata": {},
   "outputs": [
    {
     "name": "stdout",
     "output_type": "stream",
     "text": [
      "Model: \"model_3\"\n",
      "__________________________________________________________________________________________________\n",
      " Layer (type)                   Output Shape         Param #     Connected to                     \n",
      "==================================================================================================\n",
      " input_4 (InputLayer)           [(None, 25)]         0           []                               \n",
      "                                                                                                  \n",
      " wnn_1_1 (WNN_1)                (None, 18)           450         ['input_4[0][0]']                \n",
      "                                                                                                  \n",
      " dense_3 (Dense)                (None, 2)            38          ['wnn_1_1[0][0]']                \n",
      "                                                                                                  \n",
      " dense_4 (Dense)                (None, 2)            38          ['wnn_1_1[0][0]']                \n",
      "                                                                                                  \n",
      " lambda_1 (Lambda)              (None, 2)            0           ['dense_3[0][0]',                \n",
      "                                                                  'dense_4[0][0]']                \n",
      "                                                                                                  \n",
      "==================================================================================================\n",
      "Total params: 526\n",
      "Trainable params: 526\n",
      "Non-trainable params: 0\n",
      "__________________________________________________________________________________________________\n"
     ]
    }
   ],
   "source": [
    "# encoder\n",
    "E1 = encoder1()\n",
    "# E.compile(optimizer=ADAMop, loss='mse')\n",
    "E1.summary()"
   ]
  },
  {
   "cell_type": "code",
   "execution_count": 39,
   "metadata": {},
   "outputs": [
    {
     "name": "stdout",
     "output_type": "stream",
     "text": [
      "Model: \"model_4\"\n",
      "_________________________________________________________________\n",
      " Layer (type)                Output Shape              Param #   \n",
      "=================================================================\n",
      " input_5 (InputLayer)        [(None, 2)]               0         \n",
      "                                                                 \n",
      " wnn_2_1 (WNN_2)             (None, 18)                36        \n",
      "                                                                 \n",
      "=================================================================\n",
      "Total params: 36\n",
      "Trainable params: 36\n",
      "Non-trainable params: 0\n",
      "_________________________________________________________________\n"
     ]
    }
   ],
   "source": [
    "# generator/decoder\n",
    "G1 = decoder1()\n",
    "# G.compile(optimizer=ADAMop, loss='mse')\n",
    "G1.summary()"
   ]
  },
  {
   "cell_type": "code",
   "execution_count": 40,
   "metadata": {},
   "outputs": [],
   "source": [
    "# VAE\n",
    "X1 = Input(shape=(shape))\n",
    "# latent_rep = E(X)[0]\n",
    "# output = G(latent_rep)\n",
    "E_mean1, E_logsigma1, Z1 = E1(X1)"
   ]
  },
  {
   "cell_type": "code",
   "execution_count": 41,
   "metadata": {},
   "outputs": [
    {
     "data": {
      "text/plain": [
       "<KerasTensor: shape=(None, 2) dtype=float32 (created by layer 'model_3')>"
      ]
     },
     "execution_count": 41,
     "metadata": {},
     "output_type": "execute_result"
    }
   ],
   "source": [
    "Z1"
   ]
  },
  {
   "cell_type": "code",
   "execution_count": 42,
   "metadata": {},
   "outputs": [
    {
     "name": "stdout",
     "output_type": "stream",
     "text": [
      "KerasTensor(type_spec=TensorSpec(shape=(None, 18), dtype=tf.float32, name=None), name='model_4/wnn_2_1/mul_1:0', description=\"created by layer 'model_4'\")\n"
     ]
    }
   ],
   "source": [
    "output1 = G1(Z1)\n",
    "print(output1)"
   ]
  },
  {
   "cell_type": "code",
   "execution_count": 43,
   "metadata": {},
   "outputs": [],
   "source": [
    "VAE1 = Model(X1, output1)\n",
    "# VAE = Model(X, G(E(X)))"
   ]
  },
  {
   "cell_type": "code",
   "execution_count": 44,
   "metadata": {},
   "outputs": [
    {
     "name": "stdout",
     "output_type": "stream",
     "text": [
      "Model: \"model_5\"\n",
      "_________________________________________________________________\n",
      " Layer (type)                Output Shape              Param #   \n",
      "=================================================================\n",
      " input_6 (InputLayer)        [(None, 25)]              0         \n",
      "                                                                 \n",
      " model_3 (Functional)        [(None, 2),               526       \n",
      "                              (None, 2),                         \n",
      "                              (None, 2)]                         \n",
      "                                                                 \n",
      " model_4 (Functional)        (None, 18)                36        \n",
      "                                                                 \n",
      "=================================================================\n",
      "Total params: 562\n",
      "Trainable params: 562\n",
      "Non-trainable params: 0\n",
      "_________________________________________________________________\n"
     ]
    }
   ],
   "source": [
    "VAE1.summary()"
   ]
  },
  {
   "cell_type": "code",
   "execution_count": 45,
   "metadata": {},
   "outputs": [
    {
     "data": {
      "text/plain": [
       "25"
      ]
     },
     "execution_count": 45,
     "metadata": {},
     "output_type": "execute_result"
    }
   ],
   "source": [
    "original_shape"
   ]
  },
  {
   "cell_type": "code",
   "execution_count": 46,
   "metadata": {},
   "outputs": [
    {
     "name": "stdout",
     "output_type": "stream",
     "text": [
      "Model: \"model_5\"\n",
      "__________________________________________________________________________________________________\n",
      " Layer (type)                   Output Shape         Param #     Connected to                     \n",
      "==================================================================================================\n",
      " input_6 (InputLayer)           [(None, 25)]         0           []                               \n",
      "                                                                                                  \n",
      " model_3 (Functional)           [(None, 2),          526         ['input_6[0][0]']                \n",
      "                                 (None, 2),                                                       \n",
      "                                 (None, 2)]                                                       \n",
      "                                                                                                  \n",
      " model_4 (Functional)           (None, 18)           36          ['model_3[0][2]']                \n",
      "                                                                                                  \n",
      " tf.__operators__.add_2 (TFOpLa  (None, 2)           0           ['model_3[0][1]']                \n",
      " mbda)                                                                                            \n",
      "                                                                                                  \n",
      " tf.math.square_1 (TFOpLambda)  (None, 2)            0           ['model_3[0][0]']                \n",
      "                                                                                                  \n",
      " tf.math.subtract_2 (TFOpLambda  (None, 2)           0           ['tf.__operators__.add_2[0][0]', \n",
      " )                                                                'tf.math.square_1[0][0]']       \n",
      "                                                                                                  \n",
      " tf.math.exp_1 (TFOpLambda)     (None, 2)            0           ['model_3[0][1]']                \n",
      "                                                                                                  \n",
      " tf.math.subtract_3 (TFOpLambda  (None, 2)           0           ['tf.math.subtract_2[0][0]',     \n",
      " )                                                                'tf.math.exp_1[0][0]']          \n",
      "                                                                                                  \n",
      " tf.math.reduce_sum_1 (TFOpLamb  (None,)             0           ['tf.math.subtract_3[0][0]']     \n",
      " da)                                                                                              \n",
      "                                                                                                  \n",
      " tf.math.multiply_2 (TFOpLambda  (None,)             0           ['tf.math.reduce_sum_1[0][0]']   \n",
      " )                                                                                                \n",
      "                                                                                                  \n",
      " tf.math.reduce_mean_2 (TFOpLam  ()                  0           ['tf.math.multiply_2[0][0]']     \n",
      " bda)                                                                                             \n",
      "                                                                                                  \n",
      " add_loss_1 (AddLoss)           ()                   0           ['tf.math.reduce_mean_2[0][0]']  \n",
      "                                                                                                  \n",
      "==================================================================================================\n",
      "Total params: 562\n",
      "Trainable params: 562\n",
      "Non-trainable params: 0\n",
      "__________________________________________________________________________________________________\n"
     ]
    }
   ],
   "source": [
    "kl1 = - 0.5 * K.sum(1 + E_logsigma1 - K.square(E_mean1) - K.exp(E_logsigma1), axis=-1)\n",
    "# crossent1 = metrics.mse(X1, output1)\n",
    "# crossent1 *= original_shape\n",
    "VAEloss1 = K.mean(kl1)\n",
    "VAE1.add_loss(VAEloss1)\n",
    "VAE1.compile(optimizer=ADAMop1)\n",
    "VAE1.summary()"
   ]
  },
  {
   "cell_type": "code",
   "execution_count": 47,
   "id": "0a84dc41-3271-40fb-9804-08001032549f",
   "metadata": {},
   "outputs": [],
   "source": [
    "new_weights=VAE.get_weights()[:6]"
   ]
  },
  {
   "cell_type": "code",
   "execution_count": 48,
   "metadata": {},
   "outputs": [
    {
     "data": {
      "text/plain": [
       "6"
      ]
     },
     "execution_count": 48,
     "metadata": {},
     "output_type": "execute_result"
    }
   ],
   "source": [
    "len(new_weights)"
   ]
  },
  {
   "cell_type": "code",
   "execution_count": 49,
   "id": "f356b5dd-4f25-4a89-bc13-2fd2306cb74e",
   "metadata": {},
   "outputs": [],
   "source": [
    "VAE1.set_weights(new_weights)"
   ]
  },
  {
   "cell_type": "code",
   "execution_count": 50,
   "id": "0db37268-d476-4808-a01d-9e0f130dc886",
   "metadata": {},
   "outputs": [
    {
     "name": "stdout",
     "output_type": "stream",
     "text": [
      "938/938 [==============================] - 1s 722us/step\n"
     ]
    }
   ],
   "source": [
    "X_pred_new = VAE1.predict(x)"
   ]
  },
  {
   "cell_type": "code",
   "execution_count": 51,
   "id": "fb4958f1-8679-4483-bc91-fb998d44b5b8",
   "metadata": {},
   "outputs": [
    {
     "data": {
      "text/plain": [
       "array([[-4.43394221e-02,  5.89395642e-01,  9.77791011e-01, ...,\n",
       "        -2.25243509e-01, -2.74178058e-01,  7.91481853e-01],\n",
       "       [ 7.71471648e-04,  1.08353049e-01,  9.35326278e-01, ...,\n",
       "        -1.03530459e-01,  4.37290192e-01, -2.67468393e-01],\n",
       "       [ 1.19629945e-03,  2.42874905e-01, -2.62411267e-01, ...,\n",
       "        -8.05193931e-02, -1.45253921e-07,  1.08798206e-01],\n",
       "       ...,\n",
       "       [ 8.38897191e-04,  1.11798622e-01,  9.02621686e-01, ...,\n",
       "        -7.84328058e-02,  5.97393155e-01, -2.67480999e-01],\n",
       "       [ 4.68489202e-03,  3.21614325e-01,  7.78891206e-01, ...,\n",
       "        -2.88285792e-01, -3.77301089e-02, -1.43041380e-03],\n",
       "       [ 1.66077586e-03,  2.08558455e-01,  5.09103000e-01, ...,\n",
       "        -2.85572797e-01, -2.19608191e-04, -2.16228947e-01]], dtype=float32)"
      ]
     },
     "execution_count": 51,
     "metadata": {},
     "output_type": "execute_result"
    }
   ],
   "source": [
    "X_pred_new"
   ]
  },
  {
   "cell_type": "code",
   "execution_count": 52,
   "metadata": {},
   "outputs": [],
   "source": [
    "from sklearn.metrics import mean_squared_error"
   ]
  },
  {
   "cell_type": "code",
   "execution_count": 53,
   "metadata": {},
   "outputs": [],
   "source": [
    "# mean_squared_error(x,X_pred_new)"
   ]
  },
  {
   "cell_type": "code",
   "execution_count": 54,
   "metadata": {},
   "outputs": [],
   "source": [
    "# predd=sc.inverse_transform(X_pred_new)"
   ]
  },
  {
   "cell_type": "code",
   "execution_count": 55,
   "metadata": {},
   "outputs": [],
   "source": [
    "# train = pd.DataFrame(predd)\n",
    "train = pd.DataFrame(X_pred_new)"
   ]
  },
  {
   "cell_type": "code",
   "execution_count": 56,
   "metadata": {},
   "outputs": [],
   "source": [
    "# train.columns = data.columns"
   ]
  },
  {
   "cell_type": "code",
   "execution_count": 57,
   "metadata": {},
   "outputs": [
    {
     "data": {
      "text/html": [
       "<div><div id=cabf0b2c-8c2c-433b-a437-749a0e3de3e2 style=\"display:none; background-color:#9D6CFF; color:white; width:200px; height:30px; padding-left:5px; border-radius:4px; flex-direction:row; justify-content:space-around; align-items:center;\" onmouseover=\"this.style.backgroundColor='#BA9BF8'\" onmouseout=\"this.style.backgroundColor='#9D6CFF'\" onclick=\"window.commands?.execute('create-mitosheet-from-dataframe-output');\">See Full Dataframe in Mito</div> <script> if (window.commands?.hasCommand('create-mitosheet-from-dataframe-output')) document.getElementById('cabf0b2c-8c2c-433b-a437-749a0e3de3e2').style.display = 'flex' </script> <table border=\"1\" class=\"dataframe\">\n",
       "  <thead>\n",
       "    <tr style=\"text-align: right;\">\n",
       "      <th></th>\n",
       "      <th>0</th>\n",
       "      <th>1</th>\n",
       "      <th>2</th>\n",
       "      <th>3</th>\n",
       "      <th>4</th>\n",
       "      <th>5</th>\n",
       "      <th>6</th>\n",
       "      <th>7</th>\n",
       "      <th>8</th>\n",
       "      <th>9</th>\n",
       "      <th>10</th>\n",
       "      <th>11</th>\n",
       "      <th>12</th>\n",
       "      <th>13</th>\n",
       "      <th>14</th>\n",
       "      <th>15</th>\n",
       "      <th>16</th>\n",
       "      <th>17</th>\n",
       "    </tr>\n",
       "  </thead>\n",
       "  <tbody>\n",
       "    <tr>\n",
       "      <th>0</th>\n",
       "      <td>-0.044339</td>\n",
       "      <td>0.589396</td>\n",
       "      <td>0.977791</td>\n",
       "      <td>-0.000000e+00</td>\n",
       "      <td>0.901029</td>\n",
       "      <td>-0.287190</td>\n",
       "      <td>-9.079326e-03</td>\n",
       "      <td>0.118525</td>\n",
       "      <td>-0.285503</td>\n",
       "      <td>0.000986</td>\n",
       "      <td>0.363807</td>\n",
       "      <td>0.608941</td>\n",
       "      <td>3.623079e-23</td>\n",
       "      <td>0.575587</td>\n",
       "      <td>0.053035</td>\n",
       "      <td>-0.225244</td>\n",
       "      <td>-2.741781e-01</td>\n",
       "      <td>0.791482</td>\n",
       "    </tr>\n",
       "    <tr>\n",
       "      <th>1</th>\n",
       "      <td>0.000771</td>\n",
       "      <td>0.108353</td>\n",
       "      <td>0.935326</td>\n",
       "      <td>0.000000e+00</td>\n",
       "      <td>0.427541</td>\n",
       "      <td>0.005658</td>\n",
       "      <td>8.742820e-01</td>\n",
       "      <td>-0.277853</td>\n",
       "      <td>-0.000876</td>\n",
       "      <td>0.002000</td>\n",
       "      <td>-0.123530</td>\n",
       "      <td>0.538897</td>\n",
       "      <td>-1.840970e-34</td>\n",
       "      <td>-0.206772</td>\n",
       "      <td>-0.084612</td>\n",
       "      <td>-0.103530</td>\n",
       "      <td>4.372902e-01</td>\n",
       "      <td>-0.267468</td>\n",
       "    </tr>\n",
       "    <tr>\n",
       "      <th>2</th>\n",
       "      <td>0.001196</td>\n",
       "      <td>0.242875</td>\n",
       "      <td>-0.262411</td>\n",
       "      <td>0.000000e+00</td>\n",
       "      <td>0.782564</td>\n",
       "      <td>-0.226756</td>\n",
       "      <td>2.083051e-09</td>\n",
       "      <td>-0.106709</td>\n",
       "      <td>-0.072151</td>\n",
       "      <td>-0.000005</td>\n",
       "      <td>-0.178200</td>\n",
       "      <td>0.408511</td>\n",
       "      <td>-1.222701e-31</td>\n",
       "      <td>-0.038074</td>\n",
       "      <td>-0.142738</td>\n",
       "      <td>-0.080519</td>\n",
       "      <td>-1.452539e-07</td>\n",
       "      <td>0.108798</td>\n",
       "    </tr>\n",
       "    <tr>\n",
       "      <th>3</th>\n",
       "      <td>0.000743</td>\n",
       "      <td>0.207099</td>\n",
       "      <td>-0.257808</td>\n",
       "      <td>-0.000000e+00</td>\n",
       "      <td>0.751018</td>\n",
       "      <td>-0.190451</td>\n",
       "      <td>-3.090129e-07</td>\n",
       "      <td>-0.138388</td>\n",
       "      <td>-0.048976</td>\n",
       "      <td>-0.000005</td>\n",
       "      <td>-0.176311</td>\n",
       "      <td>0.401005</td>\n",
       "      <td>-2.951516e-32</td>\n",
       "      <td>-0.087771</td>\n",
       "      <td>-0.208492</td>\n",
       "      <td>-0.079882</td>\n",
       "      <td>-1.546261e-07</td>\n",
       "      <td>-0.002364</td>\n",
       "    </tr>\n",
       "    <tr>\n",
       "      <th>4</th>\n",
       "      <td>-0.206428</td>\n",
       "      <td>0.716767</td>\n",
       "      <td>0.252460</td>\n",
       "      <td>1.316270e-25</td>\n",
       "      <td>0.940584</td>\n",
       "      <td>-0.281774</td>\n",
       "      <td>7.692809e-01</td>\n",
       "      <td>0.236169</td>\n",
       "      <td>-0.116122</td>\n",
       "      <td>0.002947</td>\n",
       "      <td>-0.259476</td>\n",
       "      <td>0.677881</td>\n",
       "      <td>-8.698037e-20</td>\n",
       "      <td>0.806137</td>\n",
       "      <td>0.491578</td>\n",
       "      <td>0.109946</td>\n",
       "      <td>9.643487e-01</td>\n",
       "      <td>0.968635</td>\n",
       "    </tr>\n",
       "  </tbody>\n",
       "</table></div>"
      ],
      "text/plain": [
       "         0         1         2             3         4         5   \\\n",
       "0 -0.044339  0.589396  0.977791 -0.000000e+00  0.901029 -0.287190   \n",
       "1  0.000771  0.108353  0.935326  0.000000e+00  0.427541  0.005658   \n",
       "2  0.001196  0.242875 -0.262411  0.000000e+00  0.782564 -0.226756   \n",
       "3  0.000743  0.207099 -0.257808 -0.000000e+00  0.751018 -0.190451   \n",
       "4 -0.206428  0.716767  0.252460  1.316270e-25  0.940584 -0.281774   \n",
       "\n",
       "             6         7         8         9         10        11  \\\n",
       "0 -9.079326e-03  0.118525 -0.285503  0.000986  0.363807  0.608941   \n",
       "1  8.742820e-01 -0.277853 -0.000876  0.002000 -0.123530  0.538897   \n",
       "2  2.083051e-09 -0.106709 -0.072151 -0.000005 -0.178200  0.408511   \n",
       "3 -3.090129e-07 -0.138388 -0.048976 -0.000005 -0.176311  0.401005   \n",
       "4  7.692809e-01  0.236169 -0.116122  0.002947 -0.259476  0.677881   \n",
       "\n",
       "             12        13        14        15            16        17  \n",
       "0  3.623079e-23  0.575587  0.053035 -0.225244 -2.741781e-01  0.791482  \n",
       "1 -1.840970e-34 -0.206772 -0.084612 -0.103530  4.372902e-01 -0.267468  \n",
       "2 -1.222701e-31 -0.038074 -0.142738 -0.080519 -1.452539e-07  0.108798  \n",
       "3 -2.951516e-32 -0.087771 -0.208492 -0.079882 -1.546261e-07 -0.002364  \n",
       "4 -8.698037e-20  0.806137  0.491578  0.109946  9.643487e-01  0.968635  "
      ]
     },
     "execution_count": 57,
     "metadata": {},
     "output_type": "execute_result"
    }
   ],
   "source": [
    "train.head()"
   ]
  },
  {
   "cell_type": "code",
   "execution_count": 58,
   "metadata": {},
   "outputs": [],
   "source": [
    "from sklearn.model_selection import train_test_split"
   ]
  },
  {
   "cell_type": "code",
   "execution_count": 89,
   "metadata": {},
   "outputs": [],
   "source": [
    "y = data['default.payment.next.month']"
   ]
  },
  {
   "cell_type": "code",
   "execution_count": 59,
   "metadata": {},
   "outputs": [],
   "source": [
    "x_train,x_test,y_train,y_test = train_test_split(train,data['default.payment.next.month'],test_size=0.2,stratify=data['default.payment.next.month'])"
   ]
  },
  {
   "cell_type": "code",
   "execution_count": 60,
   "metadata": {},
   "outputs": [],
   "source": [
    "from sklearn.tree import DecisionTreeClassifier\n",
    "dt = DecisionTreeClassifier()"
   ]
  },
  {
   "cell_type": "code",
   "execution_count": 61,
   "metadata": {},
   "outputs": [
    {
     "data": {
      "text/plain": [
       "0    18691\n",
       "1     5309\n",
       "Name: default.payment.next.month, dtype: int64"
      ]
     },
     "execution_count": 61,
     "metadata": {},
     "output_type": "execute_result"
    }
   ],
   "source": [
    "y_train.value_counts()"
   ]
  },
  {
   "cell_type": "code",
   "execution_count": 62,
   "metadata": {},
   "outputs": [],
   "source": [
    "dc_model = dt.fit(x_train,y_train)"
   ]
  },
  {
   "cell_type": "code",
   "execution_count": 63,
   "metadata": {},
   "outputs": [],
   "source": [
    "dc_pred = dc_model.predict(x_test)"
   ]
  },
  {
   "cell_type": "code",
   "execution_count": 64,
   "metadata": {},
   "outputs": [
    {
     "data": {
      "text/plain": [
       "array([0, 1, 0, ..., 0, 0, 1])"
      ]
     },
     "execution_count": 64,
     "metadata": {},
     "output_type": "execute_result"
    }
   ],
   "source": [
    "dc_pred"
   ]
  },
  {
   "cell_type": "code",
   "execution_count": 65,
   "metadata": {},
   "outputs": [
    {
     "data": {
      "text/plain": [
       "0    4673\n",
       "1    1327\n",
       "Name: default.payment.next.month, dtype: int64"
      ]
     },
     "execution_count": 65,
     "metadata": {},
     "output_type": "execute_result"
    }
   ],
   "source": [
    "y_test.value_counts()"
   ]
  },
  {
   "cell_type": "code",
   "execution_count": 66,
   "metadata": {},
   "outputs": [
    {
     "data": {
      "text/plain": [
       "0    4648\n",
       "1    1352\n",
       "dtype: int64"
      ]
     },
     "execution_count": 66,
     "metadata": {},
     "output_type": "execute_result"
    }
   ],
   "source": [
    "(pd.DataFrame(dc_pred)).value_counts()"
   ]
  },
  {
   "cell_type": "code",
   "execution_count": 67,
   "metadata": {},
   "outputs": [
    {
     "data": {
      "text/plain": [
       "1"
      ]
     },
     "execution_count": 67,
     "metadata": {},
     "output_type": "execute_result"
    }
   ],
   "source": [
    "dc_pred.max()"
   ]
  },
  {
   "cell_type": "code",
   "execution_count": 68,
   "metadata": {},
   "outputs": [],
   "source": [
    "from sklearn.metrics import accuracy_score, roc_auc_score, f1_score, classification_report, confusion_matrix, ConfusionMatrixDisplay"
   ]
  },
  {
   "cell_type": "code",
   "execution_count": 69,
   "metadata": {},
   "outputs": [
    {
     "data": {
      "text/plain": [
       "0.7511666666666666"
      ]
     },
     "execution_count": 69,
     "metadata": {},
     "output_type": "execute_result"
    }
   ],
   "source": [
    "accuracy_score(y_test, dc_pred)"
   ]
  },
  {
   "cell_type": "code",
   "execution_count": 70,
   "metadata": {},
   "outputs": [
    {
     "data": {
      "text/plain": [
       "0.642225109178721"
      ]
     },
     "execution_count": 70,
     "metadata": {},
     "output_type": "execute_result"
    }
   ],
   "source": [
    "roc_auc_score(y_test, dc_pred)"
   ]
  },
  {
   "cell_type": "code",
   "execution_count": 71,
   "metadata": {},
   "outputs": [
    {
     "data": {
      "text/plain": [
       "array([[3914,  759],\n",
       "       [ 734,  593]])"
      ]
     },
     "execution_count": 71,
     "metadata": {},
     "output_type": "execute_result"
    }
   ],
   "source": [
    "cm = confusion_matrix(y_test, dc_pred)\n",
    "cm"
   ]
  },
  {
   "cell_type": "code",
   "execution_count": 72,
   "metadata": {},
   "outputs": [
    {
     "data": {
      "image/png": "[encoded data removed]",
      "text/plain": [
       "<Figure size 640x480 with 2 Axes>"
      ]
     },
     "metadata": {},
     "output_type": "display_data"
    }
   ],
   "source": [
    "ConfusionMatrixDisplay(confusion_matrix=cm,display_labels = dc_model.classes_).plot();"
   ]
  },
  {
   "cell_type": "code",
   "execution_count": 58,
   "metadata": {},
   "outputs": [
    {
     "data": {
      "text/plain": [
       "ID                              8660.398374\n",
       "LIMIT_BAL                     129747.661567\n",
       "SEX                                0.489129\n",
       "EDUCATION                          0.790349\n",
       "MARRIAGE                           0.521970\n",
       "AGE                                9.217904\n",
       "PAY_0                              1.123802\n",
       "PAY_2                              1.197186\n",
       "PAY_3                              1.196868\n",
       "PAY_4                              1.169139\n",
       "PAY_5                              1.133187\n",
       "PAY_6                              1.149988\n",
       "BILL_AMT1                      73635.860576\n",
       "BILL_AMT2                      71173.768783\n",
       "BILL_AMT3                      69349.387427\n",
       "BILL_AMT4                      64332.856134\n",
       "BILL_AMT5                      60797.155770\n",
       "BILL_AMT6                      59554.107537\n",
       "PAY_AMT1                       16563.280354\n",
       "PAY_AMT2                       23040.870402\n",
       "PAY_AMT3                       17606.961470\n",
       "PAY_AMT4                       15666.159744\n",
       "PAY_AMT5                       15278.305679\n",
       "PAY_AMT6                       17777.465775\n",
       "default.payment.next.month         0.415062\n",
       "dtype: float64"
      ]
     },
     "execution_count": 58,
     "metadata": {},
     "output_type": "execute_result"
    }
   ],
   "source": [
    "data.std()"
   ]
  },
  {
   "cell_type": "code",
   "execution_count": 59,
   "metadata": {},
   "outputs": [
    {
     "data": {
      "text/plain": [
       "ID                              451.232178\n",
       "LIMIT_BAL                     76717.921875\n",
       "SEX                               0.049176\n",
       "EDUCATION                         0.257587\n",
       "MARRIAGE                          0.324539\n",
       "AGE                               4.706163\n",
       "PAY_0                             0.640044\n",
       "PAY_2                             0.749088\n",
       "PAY_3                             0.756167\n",
       "PAY_4                             0.743174\n",
       "PAY_5                             0.714878\n",
       "PAY_6                             0.718945\n",
       "BILL_AMT1                     40494.667969\n",
       "BILL_AMT2                     39839.898438\n",
       "BILL_AMT3                     38826.324219\n",
       "BILL_AMT4                     35787.011719\n",
       "BILL_AMT5                     33543.425781\n",
       "BILL_AMT6                     32739.103516\n",
       "PAY_AMT1                       4595.492676\n",
       "PAY_AMT2                       5558.967285\n",
       "PAY_AMT3                       4527.684570\n",
       "PAY_AMT4                       4288.078613\n",
       "PAY_AMT5                       4194.367676\n",
       "PAY_AMT6                       4875.344238\n",
       "default.payment.next.month        0.216308\n",
       "dtype: float32"
      ]
     },
     "execution_count": 59,
     "metadata": {},
     "output_type": "execute_result"
    }
   ],
   "source": [
    "train.std()"
   ]
  },
  {
   "cell_type": "code",
   "execution_count": 73,
   "id": "a2a25786-07cb-4756-977e-a0acf30e18bf",
   "metadata": {},
   "outputs": [],
   "source": [
    "from sklearn.model_selection import StratifiedKFold"
   ]
  },
  {
   "cell_type": "code",
   "execution_count": 74,
   "id": "1323f2c8-8dd5-4e2c-8c8c-792a03d7bb6d",
   "metadata": {},
   "outputs": [],
   "source": [
    "# kfold = StratifiedKFold(n_splits=10, shuffle=True, random_state=42)"
   ]
  },
  {
   "cell_type": "code",
   "execution_count": 85,
   "id": "af925d77-93b0-4faf-ba22-4565d3bc2422",
   "metadata": {},
   "outputs": [],
   "source": [
    "from sklearn.linear_model import LogisticRegression\n",
    "from sklearn.neighbors import KNeighborsClassifier\n",
    "from sklearn.tree import DecisionTreeClassifier\n",
    "from sklearn.svm import SVC\n",
    "# from sklearn.naive_bayes import GaussianNB\n",
    "from sklearn.ensemble import AdaBoostClassifier\n",
    "from sklearn.ensemble import RandomForestClassifier\n",
    "from sklearn.neural_network import MLPClassifier\n",
    "# from sklearn.naive_bayes import BernoulliNB\n",
    "from lightgbm import LGBMClassifier\n",
    "from catboost import CatBoostClassifier\n",
    "from xgboost import XGBClassifier"
   ]
  },
  {
   "cell_type": "code",
   "execution_count": 86,
   "id": "0202ce85-819c-41a2-8bc7-7393b83a1627",
   "metadata": {},
   "outputs": [],
   "source": [
    "def get_models():\n",
    "    models = list()\n",
    "    models.append(LogisticRegression(max_iter=100000))\n",
    "    models.append(KNeighborsClassifier())\n",
    "    models.append(DecisionTreeClassifier())\n",
    "    models.append(RandomForestClassifier())\n",
    "    models.append(AdaBoostClassifier())\n",
    "    models.append(MLPClassifier())\n",
    "#     models.append(BernoulliNB())\n",
    "#     models.append(SVC())\n",
    "    models.append(LGBMClassifier())\n",
    "    models.append(CatBoostClassifier())\n",
    "    models.append(XGBClassifier())\n",
    "    return models"
   ]
  },
  {
   "cell_type": "code",
   "execution_count": 95,
   "metadata": {},
   "outputs": [],
   "source": [
    "import warnings\n",
    "warnings.filterwarnings(\"ignore\")"
   ]
  },
  {
   "cell_type": "code",
   "execution_count": 82,
   "id": "66a59ed8-6bd3-408e-a512-9302aaf02721",
   "metadata": {},
   "outputs": [],
   "source": [
    "lr_param_grid = [    \n",
    "                {'penalty' : ['l1', 'l2', 'elasticnet', 'none'],\n",
    "                'C' : np.logspace(-4, 4, 20),\n",
    "                'solver' : ['lbfgs','newton-cg','liblinear','sag','saga'],\n",
    "                'max_iter' : [100, 1000,2500, 5000]\n",
    "                }\n",
    "             ]\n",
    "svc_parameters = {'C': [0.1,1, 10, 100], 'gamma': [1,0.1,0.01,0.001],'kernel': ['poly','rbf', 'sigmoid','linear']}\n",
    "\n",
    "\n",
    "knn_parameters = { 'n_neighbors' : [5,7,9,11,13,15], 'weights' : ['uniform','distance'],'metric' : ['minkowski','euclidean','manhattan']}\n",
    "\n",
    "Decis_parameters = {'max_depth': [2, 3, 5, 10, 20], 'min_samples_leaf': [5, 10, 20, 50, 100], 'criterion': [\"gini\", \"entropy\"]}\n",
    "\n",
    "\n",
    "n_estimators = [5,20,50,100] # number of trees in the random forest\n",
    "max_features = ['auto', 'sqrt'] # number of features in consideration at every split\n",
    "max_depth = [int(x) for x in np.linspace(10, 120, num = 12)] # maximum number of levels allowed in each decision tree\n",
    "min_samples_split = [2, 6, 10] # minimum sample number to split a node\n",
    "min_samples_leaf = [1, 3, 4] # minimum sample number that can be stored in a leaf node\n",
    "bootstrap = [True, False] # method used to sample data points\n",
    "\n",
    "rand_parameters = {'n_estimators': n_estimators,'max_features': max_features,'max_depth': max_depth,'min_samples_split': min_samples_split,'min_samples_leaf': min_samples_leaf,'bootstrap': bootstrap}\n",
    "\n",
    "\n",
    "\n",
    "# ada_parameters = dict()\n",
    "# grid['n_estimators'] = [10, 50, 100, 500]\n",
    "# grid['learning_rate'] = [0.0001, 0.001, 0.01, 0.1, 1.0]\n",
    "\n",
    "ada_parameters = {\n",
    "                    'n_estimators': [2, 3, 4, 5, 6, 7, 8, 9, 10, 11, 12, 20],\n",
    "                    'learning_rate': [(0.97 + x / 100) for x in range(0, 8)],\n",
    "                    'algorithm': ['SAMME', 'SAMME.R']\n",
    "                }\n",
    "\n",
    "\n",
    "\n",
    "mlp_parameters = {'hidden_layer_sizes': [(50,50,50), (50,100,50), (100,)],'activation': ['tanh', 'relu'],'solver': ['sgd', 'adam'],'alpha': [0.0001, 0.05],'learning_rate': ['constant','adaptive']}\n",
    "\n",
    "\n",
    "xgb_parameters ={\n",
    "                'n_estimators': [100, 200, 500],\n",
    "                'learning_rate': [0.01,0.05,0.1],\n",
    "                'booster': ['gbtree', 'gblinear'],\n",
    "                'gamma': [0, 0.5, 1],\n",
    "                'reg_alpha': [0, 0.5, 1],\n",
    "                'reg_lambda': [0.5, 1, 5],\n",
    "                'base_score': [0.2, 0.5, 1]\n",
    "                }\n",
    "\n",
    "\n",
    "\n",
    "cat_parameters = {'max_depth': [3,4,5],'n_estimators':[100, 200, 300]}\n",
    "\n",
    "\n",
    "\n",
    "# fit_params={\"early_stopping_rounds\":30, \n",
    "#             \"eval_metric\" : 'auc', \n",
    "#             \"eval_set\" : [(X_test,y_test)],\n",
    "#             'eval_names': ['valid'],\n",
    "#             #'callbacks': [lgb.reset_parameter(learning_rate=learning_rate_010_decay_power_099)],\n",
    "#             'verbose': 100,\n",
    "#             'categorical_feature': 'auto'}\n",
    "\n",
    "\n",
    "from scipy.stats import randint as sp_randint\n",
    "from scipy.stats import uniform as sp_uniform\n",
    "lgb_parameters = {'num_leaves': sp_randint(6, 50), \n",
    "                 'min_child_samples': sp_randint(100, 500), \n",
    "                 'min_child_weight': [1e-5, 1e-3, 1e-2, 1e-1, 1, 1e1, 1e2, 1e3, 1e4],\n",
    "                 'subsample': sp_uniform(loc=0.2, scale=0.8), \n",
    "                 'colsample_bytree': sp_uniform(loc=0.4, scale=0.6),\n",
    "                 'reg_alpha': [0, 1e-1, 1, 2, 5, 7, 10, 50, 100],\n",
    "                 'reg_lambda': [0, 1e-1, 1, 5, 10, 20, 50, 100]}\n",
    "\n"
   ]
  },
  {
   "cell_type": "code",
   "execution_count": 87,
   "id": "05a6700a-3086-48dc-92b5-1ae3fb0e0952",
   "metadata": {},
   "outputs": [
    {
     "data": {
      "text/plain": [
       "9"
      ]
     },
     "execution_count": 87,
     "metadata": {},
     "output_type": "execute_result"
    }
   ],
   "source": [
    "models = get_models()\n",
    "len(models)"
   ]
  },
  {
   "cell_type": "code",
   "execution_count": 80,
   "id": "3a9894f0-fcf9-4621-978a-247e237ad495",
   "metadata": {},
   "outputs": [],
   "source": [
    "from sklearn.model_selection import *\n",
    "from timeit import default_timer as timer\n",
    "from sklearn import metrics\n",
    "import statistics\n",
    "skf = StratifiedKFold(n_splits=10,random_state=42,shuffle=True)"
   ]
  },
  {
   "cell_type": "code",
   "execution_count": 81,
   "id": "d144c566-1cfe-461e-a323-b9a487548e83",
   "metadata": {},
   "outputs": [],
   "source": [
    "from sklearn.metrics import RocCurveDisplay, plot_roc_curve, confusion_matrix, accuracy_score, f1_score, roc_auc_score"
   ]
  },
  {
   "cell_type": "code",
   "execution_count": 96,
   "metadata": {},
   "outputs": [
    {
     "name": "stdout",
     "output_type": "stream",
     "text": [
      "LogisticRegression\n",
      "FOLD:  1\n",
      "ROC-SCORE-LogisticRegression:  0.6719291549760688\n",
      "LogisticRegression\n",
      "FOLD:  2\n",
      "ROC-SCORE-LogisticRegression:  0.6824713236507676\n",
      "LogisticRegression\n",
      "FOLD:  3\n",
      "ROC-SCORE-LogisticRegression:  0.6528666033999009\n",
      "LogisticRegression\n",
      "FOLD:  4\n",
      "ROC-SCORE-LogisticRegression:  0.6849289280409308\n",
      "LogisticRegression\n",
      "FOLD:  5\n",
      "ROC-SCORE-LogisticRegression:  0.668481288166364\n",
      "LogisticRegression\n",
      "FOLD:  6\n",
      "ROC-SCORE-LogisticRegression:  0.6796733165538867\n",
      "LogisticRegression\n",
      "FOLD:  7\n",
      "ROC-SCORE-LogisticRegression:  0.6725652836428341\n",
      "LogisticRegression\n",
      "FOLD:  8\n",
      "ROC-SCORE-LogisticRegression:  0.673950630909024\n",
      "LogisticRegression\n",
      "FOLD:  9\n",
      "ROC-SCORE-LogisticRegression:  0.6794542641782693\n",
      "LogisticRegression\n",
      "FOLD:  10\n",
      "ROC-SCORE-LogisticRegression:  0.6461168648361882\n",
      "================================================================\n",
      "\n",
      "\n"
     ]
    }
   ],
   "source": [
    "# for model in models:\n",
    "count = 0\n",
    "AUC_logistic = []\n",
    "for train_index, test_index in skf.split(train, y):\n",
    "    print(\"LogisticRegression\")\n",
    "    count+=1\n",
    "    print(\"FOLD: \",count)\n",
    "    # print(\"Model : \", model)\n",
    "    # specific \".loc\" syntax for working with dataframes\n",
    "    x_train, x_test = train.loc[train_index], train.loc[test_index]\n",
    "    y_train, y_test = y[train_index], y[test_index]\n",
    "    x_train = sc.fit_transform(x_train)\n",
    "    x_test = sc.transform(x_test)\n",
    "    package = LogisticRegression()\n",
    "    clf = GridSearchCV(package,param_grid=lr_param_grid)\n",
    "    clf.fit(x_train, y_train)\n",
    "    y_predict = clf.predict(x_test)\n",
    "    cm = confusion_matrix(y_test, y_predict)\n",
    "    roc_score=roc_auc_score(y_test,y_predict)\n",
    "    AUC_logistic.append(roc_score)\n",
    "    print(\"ROC-SCORE-LogisticRegression: \", roc_score)\n",
    "    # print('\\n')\n",
    "print(\"================================================================\")\n",
    "print('\\n')"
   ]
  },
  {
   "cell_type": "code",
   "execution_count": 97,
   "metadata": {},
   "outputs": [
    {
     "name": "stdout",
     "output_type": "stream",
     "text": [
      "KNeighborsClassifier\n",
      "FOLD:  1\n",
      "<========================AUC====================================>\n",
      "ROC-SCORE-KNeighborsClassifier:  0.6701214102987292\n",
      "KNeighborsClassifier\n",
      "FOLD:  2\n",
      "<========================AUC====================================>\n",
      "ROC-SCORE-KNeighborsClassifier:  0.680116871595973\n",
      "KNeighborsClassifier\n",
      "FOLD:  3\n",
      "<========================AUC====================================>\n",
      "ROC-SCORE-KNeighborsClassifier:  0.6473015349067502\n",
      "KNeighborsClassifier\n",
      "FOLD:  4\n",
      "<========================AUC====================================>\n",
      "ROC-SCORE-KNeighborsClassifier:  0.6873220622214887\n",
      "KNeighborsClassifier\n",
      "FOLD:  5\n",
      "<========================AUC====================================>\n",
      "ROC-SCORE-KNeighborsClassifier:  0.6558064449579137\n",
      "KNeighborsClassifier\n",
      "FOLD:  6\n",
      "<========================AUC====================================>\n",
      "ROC-SCORE-KNeighborsClassifier:  0.6712070886284865\n",
      "KNeighborsClassifier\n",
      "FOLD:  7\n",
      "<========================AUC====================================>\n",
      "ROC-SCORE-KNeighborsClassifier:  0.6688158427190368\n",
      "KNeighborsClassifier\n",
      "FOLD:  8\n",
      "<========================AUC====================================>\n",
      "ROC-SCORE-KNeighborsClassifier:  0.6736669783940039\n",
      "KNeighborsClassifier\n",
      "FOLD:  9\n",
      "<========================AUC====================================>\n",
      "ROC-SCORE-KNeighborsClassifier:  0.6695912886730677\n",
      "KNeighborsClassifier\n",
      "FOLD:  10\n",
      "<========================AUC====================================>\n",
      "ROC-SCORE-KNeighborsClassifier:  0.6649434534354869\n",
      "<================================================================>\n",
      "\n",
      "\n"
     ]
    }
   ],
   "source": [
    "# for model in models:\n",
    "count = 0\n",
    "AUC_KNN = []\n",
    "for train_index, test_index in skf.split(train, y):\n",
    "    print(\"KNeighborsClassifier\")\n",
    "    count+=1\n",
    "    print(\"FOLD: \",count)\n",
    "    # print(\"Model : \", model)\n",
    "    # specific \".loc\" syntax for working with dataframes\n",
    "    x_train, x_test = train.loc[train_index], train.loc[test_index]\n",
    "    y_train, y_test = y[train_index], y[test_index]\n",
    "    x_train = sc.fit_transform(x_train)\n",
    "    x_test = sc.transform(x_test)\n",
    "    package = KNeighborsClassifier()\n",
    "    clf = GridSearchCV(package,param_grid=knn_parameters)\n",
    "    clf.fit(x_train, y_train)\n",
    "    y_predict = clf.predict(x_test)\n",
    "    cm = confusion_matrix(y_test, y_predict)\n",
    "    roc_score=roc_auc_score(y_test,y_predict)\n",
    "    AUC_KNN.append(roc_score)\n",
    "    print(\"<========================AUC====================================>\")\n",
    "    print(\"ROC-SCORE-KNeighborsClassifier: \", roc_score)\n",
    "    # print('\\n')\n",
    "print(\"<================================================================>\")\n",
    "print('\\n')"
   ]
  },
  {
   "cell_type": "code",
   "execution_count": 98,
   "metadata": {},
   "outputs": [
    {
     "name": "stdout",
     "output_type": "stream",
     "text": [
      "DecisionTreeClassifier\n",
      "FOLD:  1\n",
      "<========================AUC====================================>\n",
      "ROC-SCORE-DecisionTreeClassifier:  0.6660881539858062\n",
      "DecisionTreeClassifier\n",
      "FOLD:  2\n",
      "<========================AUC====================================>\n",
      "ROC-SCORE-DecisionTreeClassifier:  0.6726589577488035\n",
      "DecisionTreeClassifier\n",
      "FOLD:  3\n",
      "<========================AUC====================================>\n",
      "ROC-SCORE-DecisionTreeClassifier:  0.6372364457831325\n",
      "DecisionTreeClassifier\n",
      "FOLD:  4\n",
      "<========================AUC====================================>\n",
      "ROC-SCORE-DecisionTreeClassifier:  0.6756555330912691\n",
      "DecisionTreeClassifier\n",
      "FOLD:  5\n",
      "<========================AUC====================================>\n",
      "ROC-SCORE-DecisionTreeClassifier:  0.6577096055454695\n",
      "DecisionTreeClassifier\n",
      "FOLD:  6\n",
      "<========================AUC====================================>\n",
      "ROC-SCORE-DecisionTreeClassifier:  0.665446030698135\n",
      "DecisionTreeClassifier\n",
      "FOLD:  7\n",
      "<========================AUC====================================>\n",
      "ROC-SCORE-DecisionTreeClassifier:  0.6675805505375844\n",
      "DecisionTreeClassifier\n",
      "FOLD:  8\n",
      "<========================AUC====================================>\n",
      "ROC-SCORE-DecisionTreeClassifier:  0.6557978380450631\n",
      "DecisionTreeClassifier\n",
      "FOLD:  9\n",
      "<========================AUC====================================>\n",
      "ROC-SCORE-DecisionTreeClassifier:  0.6697306946872755\n",
      "DecisionTreeClassifier\n",
      "FOLD:  10\n",
      "<========================AUC====================================>\n",
      "ROC-SCORE-DecisionTreeClassifier:  0.6465660619930801\n",
      "<================================================================>\n",
      "\n",
      "\n"
     ]
    }
   ],
   "source": [
    "# for model in models:\n",
    "count = 0\n",
    "AUC_Decision = []\n",
    "for train_index, test_index in skf.split(train, y):\n",
    "    print(\"DecisionTreeClassifier\")\n",
    "    count+=1\n",
    "    print(\"FOLD: \",count)\n",
    "    # print(\"Model : \", model)\n",
    "    # specific \".loc\" syntax for working with dataframes\n",
    "    x_train, x_test = train.loc[train_index], train.loc[test_index]\n",
    "    y_train, y_test = y[train_index], y[test_index]\n",
    "    x_train = sc.fit_transform(x_train)\n",
    "    x_test = sc.transform(x_test)\n",
    "    package = DecisionTreeClassifier()\n",
    "    clf = GridSearchCV(package,param_grid=Decis_parameters)\n",
    "    clf.fit(x_train, y_train)\n",
    "    y_predict = clf.predict(x_test)\n",
    "    cm = confusion_matrix(y_test, y_predict)\n",
    "    roc_score=roc_auc_score(y_test,y_predict)\n",
    "    AUC_Decision.append(roc_score)\n",
    "    print(\"<========================AUC====================================>\")\n",
    "    print(\"ROC-SCORE-DecisionTreeClassifier: \", roc_score)\n",
    "    # print('\\n')\n",
    "print(\"<================================================================>\")\n",
    "print('\\n')\n"
   ]
  },
  {
   "cell_type": "code",
   "execution_count": null,
   "metadata": {},
   "outputs": [
    {
     "name": "stdout",
     "output_type": "stream",
     "text": [
      "RandomForestClassifier\n",
      "FOLD:  1\n",
      "<========================AUC====================================>\n",
      "ROC-SCORE-RandomForestClassifier:  0.6725558054134345\n",
      "RandomForestClassifier\n",
      "FOLD:  2\n",
      "<========================AUC====================================>\n",
      "ROC-SCORE-RandomForestClassifier:  0.6752506601749464\n",
      "RandomForestClassifier\n",
      "FOLD:  3\n"
     ]
    }
   ],
   "source": [
    "# for model in models:\n",
    "count = 0\n",
    "AUC_RF = []\n",
    "for train_index, test_index in skf.split(train, y):\n",
    "    print(\"RandomForestClassifier\")\n",
    "    count+=1\n",
    "    print(\"FOLD: \",count)\n",
    "    # print(\"Model : \", model)\n",
    "    # specific \".loc\" syntax for working with dataframes\n",
    "    x_train, x_test = train.loc[train_index], train.loc[test_index]\n",
    "    y_train, y_test = y[train_index], y[test_index]\n",
    "    x_train = sc.fit_transform(x_train)\n",
    "    x_test = sc.transform(x_test)\n",
    "    package = RandomForestClassifier()\n",
    "    clf = GridSearchCV(package,param_grid=rand_parameters)\n",
    "    clf.fit(x_train, y_train)\n",
    "    y_predict = clf.predict(x_test)\n",
    "    cm = confusion_matrix(y_test, y_predict)\n",
    "    roc_score=roc_auc_score(y_test,y_predict)\n",
    "    AUC_RF.append(roc_score)\n",
    "    print(\"<========================AUC====================================>\")\n",
    "    print(\"ROC-SCORE-RandomForestClassifier: \", roc_score)\n",
    "    # print('\\n')\n",
    "print(\"<================================================================>\")\n",
    "print('\\n')"
   ]
  },
  {
   "cell_type": "code",
   "execution_count": null,
   "metadata": {},
   "outputs": [],
   "source": [
    "# for model in models:\n",
    "count = 0\n",
    "AUC_ABC = []\n",
    "for train_index, test_index in skf.split(train, y):\n",
    "    print(\"AdaBoostClassifier\")\n",
    "    count+=1\n",
    "    print(\"FOLD: \",count)\n",
    "    # print(\"Model : \", model)\n",
    "    # specific \".loc\" syntax for working with dataframes\n",
    "    x_train, x_test = train.loc[train_index], train.loc[test_index]\n",
    "    y_train, y_test = y[train_index], y[test_index]\n",
    "    x_train = sc.fit_transform(x_train)\n",
    "    x_test = sc.transform(x_test)\n",
    "    package = AdaBoostClassifier()\n",
    "    clf = GridSearchCV(package,param_grid=ada_parameters)\n",
    "    clf.fit(x_train, y_train)\n",
    "    y_predict = clf.predict(x_test)\n",
    "    cm = confusion_matrix(y_test, y_predict)\n",
    "    roc_score=roc_auc_score(y_test,y_predict)\n",
    "    AUC_ABC.append(roc_score)\n",
    "    print(\"<========================AUC====================================>\")\n",
    "    print(\"ROC-SCORE-AdaBoostClassifier: \", roc_score)\n",
    "    # print('\\n')\n",
    "print(\"<================================================================>\")\n",
    "print('\\n')"
   ]
  },
  {
   "cell_type": "code",
   "execution_count": null,
   "metadata": {},
   "outputs": [],
   "source": [
    "# for model in models:\n",
    "count = 0\n",
    "AUC_MLP = []\n",
    "for train_index, test_index in skf.split(train, y):\n",
    "    print(\"MLPClassifier\")\n",
    "    count+=1\n",
    "    print(\"FOLD: \",count)\n",
    "    # print(\"Model : \", model)\n",
    "    # specific \".loc\" syntax for working with dataframes\n",
    "    x_train, x_test = train.loc[train_index], train.loc[test_index]\n",
    "    y_train, y_test = y[train_index], y[test_index]\n",
    "    x_train = sc.fit_transform(x_train)\n",
    "    x_test = sc.transform(x_test)\n",
    "    package = MLPClassifier()\n",
    "    clf = GridSearchCV(package,param_grid=mlp_parameters)\n",
    "    clf.fit(x_train, y_train)\n",
    "    y_predict = clf.predict(x_test)\n",
    "    cm = confusion_matrix(y_test, y_predict)\n",
    "    roc_score=roc_auc_score(y_test,y_predict)\n",
    "    AUC_MLP.append(roc_score)\n",
    "    print(\"<========================AUC====================================>\")\n",
    "    print(\"ROC-SCORE-MLPClassifier: \", roc_score)\n",
    "    # print('\\n')\n",
    "print(\"<================================================================>\")\n",
    "print('\\n')"
   ]
  },
  {
   "cell_type": "code",
   "execution_count": null,
   "metadata": {},
   "outputs": [],
   "source": [
    "# for model in models:\n",
    "count = 0\n",
    "AUC_LGB = []\n",
    "for train_index, test_index in skf.split(train, y):\n",
    "    print(\"LGBMClassifier\")\n",
    "    count+=1\n",
    "    print(\"FOLD: \",count)\n",
    "    # print(\"Model : \", model)\n",
    "    # specific \".loc\" syntax for working with dataframes\n",
    "    x_train, x_test = train.loc[train_index], train.loc[test_index]\n",
    "    y_train, y_test = y[train_index], y[test_index]\n",
    "    x_train = sc.fit_transform(x_train)\n",
    "    x_test = sc.transform(x_test)\n",
    "    package = LGBMClassifier()\n",
    "    clf = GridSearchCV(package,param_grid=lgb_parameters)\n",
    "    clf.fit(x_train, y_train)\n",
    "    y_predict = clf.predict(x_test)\n",
    "    cm = confusion_matrix(y_test, y_predict)\n",
    "    roc_score=roc_auc_score(y_test,y_predict)\n",
    "    AUC_LGB.append(roc_score)\n",
    "    print(\"<========================AUC====================================>\")\n",
    "    print(\"ROC-SCORE-LGBMClassifier: \", roc_score)\n",
    "    # print('\\n')\n",
    "print(\"<================================================================>\")\n",
    "print('\\n')"
   ]
  },
  {
   "cell_type": "code",
   "execution_count": null,
   "metadata": {},
   "outputs": [],
   "source": [
    "# for model in models:\n",
    "count = 0\n",
    "AUC_CAT = []\n",
    "for train_index, test_index in skf.split(train, y):\n",
    "    print(\"CatBoostClassifier\")\n",
    "    count+=1\n",
    "    print(\"FOLD: \",count)\n",
    "    # print(\"Model : \", model)\n",
    "    # specific \".loc\" syntax for working with dataframes\n",
    "    x_train, x_test = train.loc[train_index], train.loc[test_index]\n",
    "    y_train, y_test = y[train_index], y[test_index]\n",
    "    x_train = sc.fit_transform(x_train)\n",
    "    x_test = sc.transform(x_test)\n",
    "    package = CatBoostClassifier()\n",
    "    clf = GridSearchCV(package,param_grid=cat_parameters)\n",
    "    clf.fit(x_train, y_train)\n",
    "    y_predict = clf.predict(x_test)\n",
    "    cm = confusion_matrix(y_test, y_predict)\n",
    "    roc_score=roc_auc_score(y_test,y_predict)\n",
    "    AUC_CAT.append(roc_score)\n",
    "    print(\"<========================AUC====================================>\")\n",
    "    print(\"ROC-SCORE-CatBoostClassifier: \", roc_score)\n",
    "    # print('\\n')\n",
    "print(\"<================================================================>\")\n",
    "print('\\n')"
   ]
  },
  {
   "cell_type": "code",
   "execution_count": null,
   "metadata": {},
   "outputs": [],
   "source": [
    "# for model in models:\n",
    "count = 0\n",
    "AUC_XGB = []\n",
    "for train_index, test_index in skf.split(train, y):\n",
    "    print(\"XGBClassifier\")\n",
    "    count+=1\n",
    "    print(\"FOLD: \",count)\n",
    "    # print(\"Model : \", model)\n",
    "    # specific \".loc\" syntax for working with dataframes\n",
    "    x_train, x_test = train.loc[train_index], train.loc[test_index]\n",
    "    y_train, y_test = y[train_index], y[test_index]\n",
    "    x_train = sc.fit_transform(x_train)\n",
    "    x_test = sc.transform(x_test)\n",
    "    package = XGBClassifier()\n",
    "    clf = GridSearchCV(package,param_grid=xgb_parameters)\n",
    "    clf.fit(x_train, y_train)\n",
    "    y_predict = clf.predict(x_test)\n",
    "    cm = confusion_matrix(y_test, y_predict)\n",
    "    roc_score=roc_auc_score(y_test,y_predict)\n",
    "    AUC_XGB.append(roc_score)\n",
    "    print(\"<========================AUC====================================>\")\n",
    "    print(\"ROC-SCORE-XGBClassifier: \", roc_score)\n",
    "    # print('\\n')\n",
    "print(\"<================================================================>\")\n",
    "print('\\n')"
   ]
  },
  {
   "cell_type": "code",
   "execution_count": null,
   "metadata": {},
   "outputs": [],
   "source": []
  },
  {
   "cell_type": "code",
   "execution_count": null,
   "metadata": {},
   "outputs": [],
   "source": []
  },
  {
   "cell_type": "code",
   "execution_count": null,
   "metadata": {},
   "outputs": [],
   "source": []
  },
  {
   "cell_type": "markdown",
   "metadata": {},
   "source": [
    "# Python"
   ]
  },
  {
   "cell_type": "code",
   "execution_count": 5,
   "metadata": {},
   "outputs": [
    {
     "name": "stdout",
     "output_type": "stream",
     "text": [
      "Product is : 6\n"
     ]
    }
   ],
   "source": [
    "a,b= [int(x) for x in input(\"Enter 2 numbers :\").split(',')]\n",
    "print(\"Product is :\", a*b)"
   ]
  },
  {
   "cell_type": "code",
   "execution_count": 8,
   "metadata": {},
   "outputs": [
    {
     "name": "stdout",
     "output_type": "stream",
     "text": [
      "Answer is : 16.72\n"
     ]
    }
   ],
   "source": [
    "a,b,c = [float(x) for x in input(\"Enter 3 numbers :\").split(',')]\n",
    "print(\"Answer is :\", a+b*c)"
   ]
  },
  {
   "cell_type": "code",
   "execution_count": 9,
   "metadata": {},
   "outputs": [
    {
     "name": "stdout",
     "output_type": "stream",
     "text": [
      "Hello Durga Soft\n"
     ]
    }
   ],
   "source": [
    "print(\"Hello\",end=' ')\n",
    "print(\"Durga\",end=' ')\n",
    "print(\"Soft\")"
   ]
  },
  {
   "cell_type": "code",
   "execution_count": 10,
   "metadata": {},
   "outputs": [
    {
     "name": "stdout",
     "output_type": "stream",
     "text": [
      "Hello Durga Your Age is 48\n",
      "You are teaching java and Python\n"
     ]
    }
   ],
   "source": [
    "s=\"Durga\"\n",
    "a=48\n",
    "s1=\"java\"\n",
    "s2=\"Python\"\n",
    "print(\"Hello\",s,\"Your Age is\",a)\n",
    "print(\"You are teaching\",s1,\"and\",s2)"
   ]
  },
  {
   "cell_type": "code",
   "execution_count": 12,
   "metadata": {},
   "outputs": [
    {
     "name": "stdout",
     "output_type": "stream",
     "text": [
      "a value is 10\n",
      "b value is 20 and c value is 30\n"
     ]
    }
   ],
   "source": [
    "a = 10\n",
    "b = 20\n",
    "c = 30\n",
    "\n",
    "print(\"a value is %i\"%a)\n",
    "print(\"b value is %d and c value is %d\"%(b,c))"
   ]
  },
  {
   "cell_type": "code",
   "execution_count": 13,
   "metadata": {},
   "outputs": [
    {
     "name": "stdout",
     "output_type": "stream",
     "text": [
      "Hello\n",
      "Hello\n",
      "Hello\n",
      "Hello\n",
      "Hello\n",
      "Hello\n",
      "Hello\n",
      "Hello\n",
      "Hello\n",
      "Hello\n"
     ]
    }
   ],
   "source": [
    "for x in range(10) :\n",
    "    print(\"Hello\")"
   ]
  },
  {
   "cell_type": "code",
   "execution_count": 14,
   "metadata": {},
   "outputs": [
    {
     "name": "stdout",
     "output_type": "stream",
     "text": [
      "0\n",
      "1\n",
      "2\n",
      "3\n",
      "4\n",
      "5\n",
      "6\n",
      "7\n",
      "8\n",
      "9\n",
      "10\n"
     ]
    }
   ],
   "source": [
    "for x in range(11) :\n",
    "    print(x)"
   ]
  },
  {
   "cell_type": "code",
   "execution_count": 16,
   "metadata": {},
   "outputs": [
    {
     "name": "stdout",
     "output_type": "stream",
     "text": [
      "1\n",
      "3\n",
      "5\n",
      "7\n",
      "9\n",
      "11\n",
      "13\n",
      "15\n",
      "17\n",
      "19\n"
     ]
    }
   ],
   "source": [
    "for x in range(21) :\n",
    "    if (x%2!=0):\n",
    "        print(x)"
   ]
  },
  {
   "cell_type": "code",
   "execution_count": 17,
   "metadata": {},
   "outputs": [
    {
     "name": "stdout",
     "output_type": "stream",
     "text": [
      "10\n",
      "9\n",
      "8\n",
      "7\n",
      "6\n",
      "5\n",
      "4\n",
      "3\n",
      "2\n",
      "1\n"
     ]
    }
   ],
   "source": [
    "for x in range(10,0,-1) :\n",
    "    print(x)"
   ]
  },
  {
   "cell_type": "code",
   "execution_count": 21,
   "metadata": {},
   "outputs": [
    {
     "name": "stdout",
     "output_type": "stream",
     "text": [
      "1\n",
      "3\n",
      "6\n",
      "10\n",
      "The Sum= 10\n"
     ]
    }
   ],
   "source": [
    "list=eval(input(\"Enter List:\"))\n",
    "sum=0;\n",
    "for x in list:\n",
    "    sum=sum+x;\n",
    "    print(sum)\n",
    "print(\"The Sum=\",sum)"
   ]
  },
  {
   "cell_type": "code",
   "execution_count": 23,
   "metadata": {},
   "outputs": [
    {
     "name": "stdout",
     "output_type": "stream",
     "text": [
      "1\n",
      "2\n",
      "3\n",
      "4\n",
      "5\n",
      "6\n",
      "7\n",
      "8\n",
      "9\n",
      "10\n"
     ]
    }
   ],
   "source": [
    "x = 1\n",
    "\n",
    "while x<=10:\n",
    "    print(x)\n",
    "    x = x + 1    "
   ]
  },
  {
   "cell_type": "code",
   "execution_count": 25,
   "metadata": {},
   "outputs": [
    {
     "name": "stdout",
     "output_type": "stream",
     "text": [
      "The sum of first 10 number is: 55\n"
     ]
    }
   ],
   "source": [
    "n = int(input(\"Enter number:\"))\n",
    "sum= 0\n",
    "i = 1\n",
    "\n",
    "while i <=n:\n",
    "    sum = sum+i\n",
    "    i = i+1\n",
    "print(\"The sum of first\",n,\"number is:\",sum)"
   ]
  },
  {
   "cell_type": "code",
   "execution_count": 28,
   "metadata": {},
   "outputs": [
    {
     "name": "stdout",
     "output_type": "stream",
     "text": [
      "Thanks for confirmation\n"
     ]
    }
   ],
   "source": [
    "name=\"\"\n",
    "while name!=\"durga\":\n",
    "    name=input(\"Enter Name:\")\n",
    "print(\"Thanks for confirmation\")"
   ]
  },
  {
   "cell_type": "code",
   "execution_count": 36,
   "metadata": {},
   "outputs": [
    {
     "name": "stdout",
     "output_type": "stream",
     "text": [
      "* \n",
      "* * \n",
      "* * * \n",
      "* * * * \n"
     ]
    }
   ],
   "source": [
    "n = int(input(\"Enter number of rows:\"))\n",
    "for i in range(1,n+1):\n",
    "    # print(i)\n",
    "    for j in range(1,i+1):\n",
    "        # print(j)\n",
    "        print(\"*\",end=\" \")\n",
    "    print()    "
   ]
  },
  {
   "cell_type": "code",
   "execution_count": 40,
   "metadata": {},
   "outputs": [
    {
     "name": "stdout",
     "output_type": "stream",
     "text": [
      "*\n",
      "**\n",
      "***\n",
      "****\n"
     ]
    }
   ],
   "source": [
    "n = int(input(\"Enter number of rows:\"))\n",
    "for i in range(1, n+1):\n",
    "    print(\"*\" * i)"
   ]
  },
  {
   "cell_type": "code",
   "execution_count": 53,
   "metadata": {},
   "outputs": [
    {
     "name": "stdout",
     "output_type": "stream",
     "text": [
      "        * \n",
      "       * * \n",
      "      * * * \n",
      "     * * * * \n",
      "    * * * * * \n",
      "   * * * * * * \n",
      "  * * * * * * * \n",
      " * * * * * * * * \n"
     ]
    }
   ],
   "source": [
    "n = int(input(\"Enter number of rows:\"))\n",
    "for i in range(1, n+1):\n",
    "    print(\" \" * (n-i),end=\" \")\n",
    "    print(\"* \"*i)"
   ]
  },
  {
   "cell_type": "code",
   "execution_count": 52,
   "metadata": {},
   "outputs": [
    {
     "name": "stdout",
     "output_type": "stream",
     "text": [
      "       * \n",
      "      * * \n",
      "     * * * \n",
      "    * * * * \n",
      "   * * * * * \n",
      "  * * * * * * \n",
      " * * * * * * * \n",
      "* * * * * * * * \n"
     ]
    }
   ],
   "source": [
    "n = int(input(\"Enter number of rows:\"))\n",
    "for i in range(1,n+1):\n",
    " print(\" \" * (n-i),end=\"\")\n",
    " print(\"* \"*i)"
   ]
  },
  {
   "cell_type": "code",
   "execution_count": 54,
   "metadata": {},
   "outputs": [
    {
     "name": "stdout",
     "output_type": "stream",
     "text": [
      "The character present at positive index 0 and at negative index -6 is p\n",
      "The character present at positive index 1 and at negative index -5 is r\n",
      "The character present at positive index 2 and at negative index -4 is a\n",
      "The character present at positive index 3 and at negative index -3 is n\n",
      "The character present at positive index 4 and at negative index -2 is a\n",
      "The character present at positive index 5 and at negative index -1 is y\n"
     ]
    }
   ],
   "source": [
    "s = input(\"Enter some string:\")\n",
    "i = 0\n",
    "for x in s:\n",
    "    print(\"The character present at positive index {} and at negative index {} is {}\".format(i, i-len(s), x))\n",
    "    i = i+1\n",
    "    "
   ]
  },
  {
   "cell_type": "code",
   "execution_count": null,
   "metadata": {},
   "outputs": [],
   "source": []
  }
 ],
 "metadata": {
  "kernelspec": {
   "display_name": "Python 3 (ipykernel)",
   "language": "python",
   "name": "python3"
  },
  "language_info": {
   "codemirror_mode": {
    "name": "ipython",
    "version": 3
   },
   "file_extension": ".py",
   "mimetype": "text/x-python",
   "name": "python",
   "nbconvert_exporter": "python",
   "pygments_lexer": "ipython3",
   "version": "3.9.12"
  },
  "vscode": {
   "interpreter": {
    "hash": "f54efdc28531de1995e52c0eecdf52900ad9e9477f9701aef19b980541d74d14"
   }
  }
 },
 "nbformat": 4,
 "nbformat_minor": 4
}
